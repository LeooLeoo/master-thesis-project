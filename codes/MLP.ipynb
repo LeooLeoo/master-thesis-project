{
 "cells": [
  {
   "cell_type": "code",
   "execution_count": 119,
   "metadata": {},
   "outputs": [],
   "source": [
    "#load libraries\n",
    "from datetime import datetime, timedelta\n",
    "from dateutil import parser\n",
    "import numpy as np\n",
    "import pandas as pd\n",
    "import matplotlib.pyplot as plt\n",
    "import csv, os\n",
    "from glob import glob\n",
    "#Import scikit-learn dataset library\n",
    "from sklearn import datasets, metrics\n",
    "from sklearn.model_selection import train_test_split\n",
    "from sklearn.ensemble import RandomForestClassifier\n",
    "from sklearn.linear_model import LogisticRegression\n",
    "from sklearn.svm import SVC\n",
    "import xgboost as xgb\n",
    "from sklearn.metrics import mean_squared_error\n",
    "from sklearn.datasets import dump_svmlight_file\n",
    "from random import shuffle\n",
    "import tensorflow as tf\n",
    "\n",
    "#load the data\n",
    "PATH = \"/Users/leeo/Desktop/KI2/7.master_thesis/1.data/20.more_feature_label_1min/combine_fe/training_data_undersample_binary.csv\"\n",
    "df = pd.read_csv(PATH, sep=\",\", header=0,\n",
    "                       parse_dates=[0], index_col=0)\n",
    "#add coefficient of variance\n",
    "df[\"cv\"] = df[\"std\"]/df[\"mean\"]\n",
    "df[\"cv.1\"] = df[\"std.1\"]/df[\"mean.1\"]\n",
    "cols = df.columns.tolist()\n",
    "cols = cols[-2:] + cols[:-2]\n",
    "df = df[cols]"
   ]
  },
  {
   "cell_type": "code",
   "execution_count": 120,
   "metadata": {},
   "outputs": [],
   "source": [
    "#use only selected features\n",
    "X = df.loc[:, ['cv', 'cv.1', 'amplitude', 'amplitude.1', \n",
    "       'mean', 'mean.1', 'maximum', 'maximum.1', 'median', 'median.1',\n",
    "       'minimum', 'minimum.1', 'skew', 'skew.1', 'std', 'std.1',\n",
    "       'median_absolute_deviation', 'median_absolute_deviation.1',\n",
    "       'percent_beyond_1_std',\n",
    "       'percent_beyond_1_std.1', 'percent_close_to_median',\n",
    "       'percent_close_to_median.1', \n",
    "        'stetson_j', 'stetson_j.1', \n",
    "       'stetson_k.1', 'weighted_average', 'weighted_average.1']]"
   ]
  },
  {
   "cell_type": "code",
   "execution_count": 121,
   "metadata": {},
   "outputs": [],
   "source": [
    "# Split the training and testing dataseet\n",
    "#df = shuffle(df,random_state=42)\n",
    "#X=df[df.columns[:-2]]  # Features\n",
    "y=df[df.columns[-2]]  # Labels\n",
    "\n",
    "# Split dataset into training set and test set\n",
    "X_train, X_test, y_train, y_test = train_test_split(X, y, test_size=0.3, random_state=42) # 70% training and 30% test \n",
    "#df.iloc[X_test.index][\"label\"].value_counts()\n",
    "#df.iloc[X_train.index][\"label\"].value_counts()"
   ]
  },
  {
   "cell_type": "code",
   "execution_count": 123,
   "metadata": {},
   "outputs": [
    {
     "name": "stdout",
     "output_type": "stream",
     "text": [
      "Confusion matrix:\n",
      " [[5620  608]\n",
      " [2173  961]]\n",
      "Accuracy 0.7029480880153813\n",
      "Classification_report:\n",
      "               precision    recall  f1-score   support\n",
      "\n",
      "         0.0       0.72      0.90      0.80      6228\n",
      "         1.0       0.61      0.31      0.41      3134\n",
      "\n",
      "    accuracy                           0.70      9362\n",
      "   macro avg       0.67      0.60      0.61      9362\n",
      "weighted avg       0.68      0.70      0.67      9362\n",
      "\n"
     ]
    }
   ],
   "source": [
    "from sklearn.neural_network import MLPClassifier\n",
    "\n",
    "# create mutli-layer perceptron classifier\n",
    "clf = MLPClassifier(solver='sgd', activation=\"relu\",alpha=0.0001, #alpha>>1/0.1/0.01/0.001/0.0001\n",
    "                    learning_rate = \"constant\", early_stopping =True,\n",
    "                    hidden_layer_sizes=(40,20)) #random_state drop #hidden_layer>>(40,20)/(50,)\n",
    "\n",
    "# train\n",
    "clf.fit(X_train, y_train)\n",
    "\n",
    "#apply the model\n",
    "y_pred=clf.predict(X_test)\n",
    "\n",
    "# Model Accuracy, Precisiono and recall\n",
    "print(\"Confusion matrix:\\n\",metrics.confusion_matrix(y_test, y_pred))\n",
    "print(\"Accuracy\",metrics.accuracy_score(y_test, y_pred))\n",
    "print(\"Classification_report:\\n\",metrics.classification_report(y_test, y_pred))\n"
   ]
  },
  {
   "cell_type": "code",
   "execution_count": 117,
   "metadata": {
    "scrolled": true
   },
   "outputs": [
    {
     "ename": "ValueError",
     "evalue": "matmul: Input operand 1 has a mismatch in its core dimension 0, with gufunc signature (n?,k),(k,m?)->(n?,m?) (size 27 is different from 18)",
     "output_type": "error",
     "traceback": [
      "\u001b[0;31m---------------------------------------------------------------------------\u001b[0m",
      "\u001b[0;31mValueError\u001b[0m                                Traceback (most recent call last)",
      "\u001b[0;32m<ipython-input-117-88586c067abe>\u001b[0m in \u001b[0;36m<module>\u001b[0;34m\u001b[0m\n\u001b[1;32m     15\u001b[0m \u001b[0;34m\u001b[0m\u001b[0m\n\u001b[1;32m     16\u001b[0m \u001b[0;31m#apply the model\u001b[0m\u001b[0;34m\u001b[0m\u001b[0;34m\u001b[0m\u001b[0;34m\u001b[0m\u001b[0m\n\u001b[0;32m---> 17\u001b[0;31m \u001b[0my_pred\u001b[0m\u001b[0;34m=\u001b[0m\u001b[0mclf\u001b[0m\u001b[0;34m.\u001b[0m\u001b[0mpredict\u001b[0m\u001b[0;34m(\u001b[0m\u001b[0mX_test\u001b[0m\u001b[0;34m)\u001b[0m\u001b[0;34m\u001b[0m\u001b[0;34m\u001b[0m\u001b[0m\n\u001b[0m\u001b[1;32m     18\u001b[0m \u001b[0;34m\u001b[0m\u001b[0m\n\u001b[1;32m     19\u001b[0m \u001b[0;31m# Model Accuracy, Precisiono and recall\u001b[0m\u001b[0;34m\u001b[0m\u001b[0;34m\u001b[0m\u001b[0;34m\u001b[0m\u001b[0m\n",
      "\u001b[0;32m/anaconda3/envs/p3/lib/python3.7/site-packages/sklearn/neural_network/_multilayer_perceptron.py\u001b[0m in \u001b[0;36mpredict\u001b[0;34m(self, X)\u001b[0m\n\u001b[1;32m    969\u001b[0m         \"\"\"\n\u001b[1;32m    970\u001b[0m         \u001b[0mcheck_is_fitted\u001b[0m\u001b[0;34m(\u001b[0m\u001b[0mself\u001b[0m\u001b[0;34m)\u001b[0m\u001b[0;34m\u001b[0m\u001b[0;34m\u001b[0m\u001b[0m\n\u001b[0;32m--> 971\u001b[0;31m         \u001b[0my_pred\u001b[0m \u001b[0;34m=\u001b[0m \u001b[0mself\u001b[0m\u001b[0;34m.\u001b[0m\u001b[0m_predict\u001b[0m\u001b[0;34m(\u001b[0m\u001b[0mX\u001b[0m\u001b[0;34m)\u001b[0m\u001b[0;34m\u001b[0m\u001b[0;34m\u001b[0m\u001b[0m\n\u001b[0m\u001b[1;32m    972\u001b[0m \u001b[0;34m\u001b[0m\u001b[0m\n\u001b[1;32m    973\u001b[0m         \u001b[0;32mif\u001b[0m \u001b[0mself\u001b[0m\u001b[0;34m.\u001b[0m\u001b[0mn_outputs_\u001b[0m \u001b[0;34m==\u001b[0m \u001b[0;36m1\u001b[0m\u001b[0;34m:\u001b[0m\u001b[0;34m\u001b[0m\u001b[0;34m\u001b[0m\u001b[0m\n",
      "\u001b[0;32m/anaconda3/envs/p3/lib/python3.7/site-packages/sklearn/neural_network/_multilayer_perceptron.py\u001b[0m in \u001b[0;36m_predict\u001b[0;34m(self, X)\u001b[0m\n\u001b[1;32m    683\u001b[0m                                          layer_units[i + 1])))\n\u001b[1;32m    684\u001b[0m         \u001b[0;31m# forward propagate\u001b[0m\u001b[0;34m\u001b[0m\u001b[0;34m\u001b[0m\u001b[0;34m\u001b[0m\u001b[0m\n\u001b[0;32m--> 685\u001b[0;31m         \u001b[0mself\u001b[0m\u001b[0;34m.\u001b[0m\u001b[0m_forward_pass\u001b[0m\u001b[0;34m(\u001b[0m\u001b[0mactivations\u001b[0m\u001b[0;34m)\u001b[0m\u001b[0;34m\u001b[0m\u001b[0;34m\u001b[0m\u001b[0m\n\u001b[0m\u001b[1;32m    686\u001b[0m         \u001b[0my_pred\u001b[0m \u001b[0;34m=\u001b[0m \u001b[0mactivations\u001b[0m\u001b[0;34m[\u001b[0m\u001b[0;34m-\u001b[0m\u001b[0;36m1\u001b[0m\u001b[0;34m]\u001b[0m\u001b[0;34m\u001b[0m\u001b[0;34m\u001b[0m\u001b[0m\n\u001b[1;32m    687\u001b[0m \u001b[0;34m\u001b[0m\u001b[0m\n",
      "\u001b[0;32m/anaconda3/envs/p3/lib/python3.7/site-packages/sklearn/neural_network/_multilayer_perceptron.py\u001b[0m in \u001b[0;36m_forward_pass\u001b[0;34m(self, activations)\u001b[0m\n\u001b[1;32m    102\u001b[0m         \u001b[0;32mfor\u001b[0m \u001b[0mi\u001b[0m \u001b[0;32min\u001b[0m \u001b[0mrange\u001b[0m\u001b[0;34m(\u001b[0m\u001b[0mself\u001b[0m\u001b[0;34m.\u001b[0m\u001b[0mn_layers_\u001b[0m \u001b[0;34m-\u001b[0m \u001b[0;36m1\u001b[0m\u001b[0;34m)\u001b[0m\u001b[0;34m:\u001b[0m\u001b[0;34m\u001b[0m\u001b[0;34m\u001b[0m\u001b[0m\n\u001b[1;32m    103\u001b[0m             activations[i + 1] = safe_sparse_dot(activations[i],\n\u001b[0;32m--> 104\u001b[0;31m                                                  self.coefs_[i])\n\u001b[0m\u001b[1;32m    105\u001b[0m             \u001b[0mactivations\u001b[0m\u001b[0;34m[\u001b[0m\u001b[0mi\u001b[0m \u001b[0;34m+\u001b[0m \u001b[0;36m1\u001b[0m\u001b[0;34m]\u001b[0m \u001b[0;34m+=\u001b[0m \u001b[0mself\u001b[0m\u001b[0;34m.\u001b[0m\u001b[0mintercepts_\u001b[0m\u001b[0;34m[\u001b[0m\u001b[0mi\u001b[0m\u001b[0;34m]\u001b[0m\u001b[0;34m\u001b[0m\u001b[0;34m\u001b[0m\u001b[0m\n\u001b[1;32m    106\u001b[0m \u001b[0;34m\u001b[0m\u001b[0m\n",
      "\u001b[0;32m/anaconda3/envs/p3/lib/python3.7/site-packages/sklearn/utils/extmath.py\u001b[0m in \u001b[0;36msafe_sparse_dot\u001b[0;34m(a, b, dense_output)\u001b[0m\n\u001b[1;32m    149\u001b[0m             \u001b[0mret\u001b[0m \u001b[0;34m=\u001b[0m \u001b[0mnp\u001b[0m\u001b[0;34m.\u001b[0m\u001b[0mdot\u001b[0m\u001b[0;34m(\u001b[0m\u001b[0ma\u001b[0m\u001b[0;34m,\u001b[0m \u001b[0mb\u001b[0m\u001b[0;34m)\u001b[0m\u001b[0;34m\u001b[0m\u001b[0;34m\u001b[0m\u001b[0m\n\u001b[1;32m    150\u001b[0m     \u001b[0;32melse\u001b[0m\u001b[0;34m:\u001b[0m\u001b[0;34m\u001b[0m\u001b[0;34m\u001b[0m\u001b[0m\n\u001b[0;32m--> 151\u001b[0;31m         \u001b[0mret\u001b[0m \u001b[0;34m=\u001b[0m \u001b[0ma\u001b[0m \u001b[0;34m@\u001b[0m \u001b[0mb\u001b[0m\u001b[0;34m\u001b[0m\u001b[0;34m\u001b[0m\u001b[0m\n\u001b[0m\u001b[1;32m    152\u001b[0m \u001b[0;34m\u001b[0m\u001b[0m\n\u001b[1;32m    153\u001b[0m     if (sparse.issparse(a) and sparse.issparse(b)\n",
      "\u001b[0;31mValueError\u001b[0m: matmul: Input operand 1 has a mismatch in its core dimension 0, with gufunc signature (n?,k),(k,m?)->(n?,m?) (size 27 is different from 18)"
     ]
    }
   ],
   "source": [
    "PATH = \"/Users/leeo/Desktop/KI2/7.master_thesis/1.data/14.feature_label_intact_5min/label_fe/combine_fe/testing_data_binary.csv\"\n",
    "dftest = pd.read_csv(PATH, sep=\",\", header=0,\n",
    "                       parse_dates=[0], index_col=0)\n",
    "\n",
    "#add coefficient of variance\n",
    "dftest[\"cv\"] = dftest[\"std\"]/dftest[\"mean\"]\n",
    "dftest[\"cv.1\"] = dftest[\"std.1\"]/dftest[\"mean.1\"]\n",
    "cols = dftest.columns.tolist()\n",
    "cols = cols[-2:] + cols[:-2]\n",
    "dftest = dftest[cols]\n",
    "\n",
    "\n",
    "X_test=dftest[dftest.columns[:-2]]  # Features\n",
    "y_test=dftest[dftest.columns[-2]]  # Labels\n",
    "\n",
    "#apply the model\n",
    "y_pred=clf.predict(X_test)\n",
    "\n",
    "# Model Accuracy, Precisiono and recall\n",
    "print(\"Confusion matrix:\\n\",metrics.confusion_matrix(y_test, y_pred))\n",
    "print(\"Accuracy\",metrics.accuracy_score(y_test, y_pred))\n",
    "print(\"Classification_report:\\n\",metrics.classification_report(y_test, y_pred))"
   ]
  },
  {
   "cell_type": "code",
   "execution_count": 11,
   "metadata": {
    "collapsed": true
   },
   "outputs": [
    {
     "data": {
      "text/plain": [
       "cv                                      False\n",
       "cv.1                                    False\n",
       "amplitude                               False\n",
       "amplitude.1                             False\n",
       "max_slope                               False\n",
       "max_slope.1                             False\n",
       "mean                                    False\n",
       "mean.1                                  False\n",
       "maximum                                 False\n",
       "maximum.1                               False\n",
       "median                                  False\n",
       "median.1                                False\n",
       "minimum                                 False\n",
       "minimum.1                               False\n",
       "skew                                    False\n",
       "skew.1                                  False\n",
       "std                                     False\n",
       "std.1                                   False\n",
       "flux_percentile_ratio_mid20             False\n",
       "flux_percentile_ratio_mid20.1           False\n",
       "flux_percentile_ratio_mid35             False\n",
       "flux_percentile_ratio_mid35.1           False\n",
       "flux_percentile_ratio_mid50             False\n",
       "flux_percentile_ratio_mid50.1           False\n",
       "flux_percentile_ratio_mid65             False\n",
       "flux_percentile_ratio_mid65.1           False\n",
       "flux_percentile_ratio_mid80             False\n",
       "flux_percentile_ratio_mid80.1           False\n",
       "median_absolute_deviation               False\n",
       "median_absolute_deviation.1             False\n",
       "percent_amplitude                        True\n",
       "percent_amplitude.1                      True\n",
       "percent_beyond_1_std                    False\n",
       "percent_beyond_1_std.1                  False\n",
       "percent_close_to_median                 False\n",
       "percent_close_to_median.1               False\n",
       "percent_difference_flux_percentile       True\n",
       "percent_difference_flux_percentile.1     True\n",
       "qso_log_chi2_qsonu                      False\n",
       "qso_log_chi2_qsonu.1                    False\n",
       "stetson_j                               False\n",
       "stetson_j.1                             False\n",
       "stetson_k                               False\n",
       "stetson_k.1                             False\n",
       "weighted_average                        False\n",
       "weighted_average.1                      False\n",
       "dtype: bool"
      ]
     },
     "execution_count": 11,
     "metadata": {},
     "output_type": "execute_result"
    }
   ],
   "source": [
    "X.max()>10000"
   ]
  },
  {
   "cell_type": "code",
   "execution_count": null,
   "metadata": {},
   "outputs": [],
   "source": []
  }
 ],
 "metadata": {
  "kernelspec": {
   "display_name": "Python [conda env:p3]",
   "language": "python",
   "name": "conda-env-p3-py"
  },
  "language_info": {
   "codemirror_mode": {
    "name": "ipython",
    "version": 3
   },
   "file_extension": ".py",
   "mimetype": "text/x-python",
   "name": "python",
   "nbconvert_exporter": "python",
   "pygments_lexer": "ipython3",
   "version": "3.7.3"
  }
 },
 "nbformat": 4,
 "nbformat_minor": 2
}
