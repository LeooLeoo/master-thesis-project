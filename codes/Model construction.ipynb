{
 "cells": [
  {
   "cell_type": "code",
   "execution_count": 93,
   "metadata": {},
   "outputs": [],
   "source": [
    "#load libraries\n",
    "from datetime import datetime, timedelta\n",
    "from dateutil import parser\n",
    "import numpy as np\n",
    "import pandas as pd\n",
    "import matplotlib.pyplot as plt\n",
    "import csv, os\n",
    "from glob import glob\n",
    "#Import scikit-learn dataset library\n",
    "from sklearn import datasets, metrics\n",
    "from sklearn.model_selection import train_test_split\n",
    "from sklearn.ensemble import RandomForestClassifier\n",
    "from sklearn.svm import SVC\n",
    "import xgboost as xgb\n",
    "from sklearn.metrics import mean_squared_error\n",
    "from sklearn.datasets import dump_svmlight_file\n",
    "\n",
    "\n",
    "#load the data\n",
    "PATH = \"/Users/leeo/Desktop/KI2/7.master_thesis/1.data/12.feature_label_4h_control/combine_fe/train_balance_data.csv\"\n",
    "df = pd.read_csv(PATH, sep=\",\", header=0,\n",
    "                       parse_dates=[0], index_col=0)\n"
   ]
  },
  {
   "cell_type": "code",
   "execution_count": 94,
   "metadata": {},
   "outputs": [],
   "source": [
    "# Split the training and testing dataseet\n",
    "X=df[df.columns[:-2]]  # Features\n",
    "y=df[df.columns[-2]]  # Labels\n",
    "\n",
    "# Split dataset into training set and test set\n",
    "X_train, X_test, y_train, y_test = train_test_split(X, y, test_size=0.3, random_state=42) # 70% training and 30% test"
   ]
  },
  {
   "cell_type": "markdown",
   "metadata": {},
   "source": [
    "# Random forest"
   ]
  },
  {
   "cell_type": "code",
   "execution_count": 95,
   "metadata": {
    "scrolled": true
   },
   "outputs": [
    {
     "name": "stdout",
     "output_type": "stream",
     "text": [
      "Confusion matrix:\n",
      " [[2863  322   34]\n",
      " [ 208 2226   13]\n",
      " [  26   59  683]]\n",
      "Accuracy 0.89710910786447\n",
      "Classification_report:\n",
      "               precision    recall  f1-score   support\n",
      "\n",
      "         0.0       0.92      0.89      0.91      3219\n",
      "         1.0       0.85      0.91      0.88      2447\n",
      "         2.0       0.94      0.89      0.91       768\n",
      "\n",
      "    accuracy                           0.90      6434\n",
      "   macro avg       0.90      0.90      0.90      6434\n",
      "weighted avg       0.90      0.90      0.90      6434\n",
      "\n"
     ]
    }
   ],
   "source": [
    "#Create a RF Classifier\n",
    "clf=RandomForestClassifier(n_estimators=100)\n",
    "\n",
    "#Train the model using the training sets y_pred=clf.predict(X_test)\n",
    "clf.fit(X_train,y_train)\n",
    "\n",
    "#apply the model\n",
    "y_pred=clf.predict(X_test)\n",
    "\n",
    "# Model Accuracy, Precisiono and recall\n",
    "print(\"Confusion matrix:\\n\",metrics.confusion_matrix(y_test, y_pred))\n",
    "print(\"Accuracy\",metrics.accuracy_score(y_test, y_pred))\n",
    "print(\"Classification_report:\\n\",metrics.classification_report(y_test, y_pred))"
   ]
  },
  {
   "cell_type": "markdown",
   "metadata": {},
   "source": [
    "# XGBoost"
   ]
  },
  {
   "cell_type": "code",
   "execution_count": 96,
   "metadata": {},
   "outputs": [
    {
     "name": "stderr",
     "output_type": "stream",
     "text": [
      "/anaconda3/envs/p3/lib/python3.7/site-packages/xgboost/core.py:587: FutureWarning: Series.base is deprecated and will be removed in a future version\n",
      "  if getattr(data, 'base', None) is not None and \\\n"
     ]
    },
    {
     "name": "stdout",
     "output_type": "stream",
     "text": [
      "[20:08:36] 15010x16 matrix with 240160 entries loaded from dtrain.svm\n",
      "[20:08:36] 6434x16 matrix with 102944 entries loaded from dtest.svm\n"
     ]
    }
   ],
   "source": [
    "# use DMatrix for xgbosot\n",
    "dtrain = xgb.DMatrix(X_train, label=y_train)\n",
    "dtest = xgb.DMatrix(X_test, label=y_test)\n",
    "\n",
    "\n",
    "# use svmlight file for xgboost\n",
    "dump_svmlight_file(X_train, y_train, 'dtrain.svm', zero_based=True)\n",
    "dump_svmlight_file(X_test, y_test, 'dtest.svm', zero_based=True)\n",
    "dtrain_svm = xgb.DMatrix('dtrain.svm')\n",
    "dtest_svm = xgb.DMatrix('dtest.svm')\n",
    "\n",
    "# set xgboost params\n",
    "param = {\n",
    "    'max_depth': 3,  # the maximum depth of each tree\n",
    "    'eta': 0.3,  # the training step for each iteration\n",
    "    'silent': 1,  # logging mode - quiet\n",
    "    'objective': 'multi:softprob',  # error evaluation for multiclass training\n",
    "    'num_class': 3}  # the number of classes that exist in this datset\n",
    "num_round = 10  # the number of training iterations"
   ]
  },
  {
   "cell_type": "code",
   "execution_count": 97,
   "metadata": {},
   "outputs": [
    {
     "name": "stdout",
     "output_type": "stream",
     "text": [
      "Confusion matrix:\n",
      " [[2633  532   54]\n",
      " [ 954 1396   97]\n",
      " [  89  433  246]]\n",
      "Accuracy 0.6644389182468138\n",
      "Classification_report:\n",
      "               precision    recall  f1-score   support\n",
      "\n",
      "         0.0       0.72      0.82      0.76      3219\n",
      "         1.0       0.59      0.57      0.58      2447\n",
      "         2.0       0.62      0.32      0.42       768\n",
      "\n",
      "    accuracy                           0.66      6434\n",
      "   macro avg       0.64      0.57      0.59      6434\n",
      "weighted avg       0.66      0.66      0.65      6434\n",
      "\n"
     ]
    }
   ],
   "source": [
    "# training and testing - numpy matrices\n",
    "bst = xgb.train(param, dtrain, num_round)\n",
    "preds = bst.predict(dtest)\n",
    "best_preds = np.asarray([np.argmax(line) for line in preds])\n",
    "\n",
    "#model evaluation: Model Accuracy, Precisiono and recall\n",
    "print(\"Confusion matrix:\\n\",metrics.confusion_matrix(y_test, best_preds))\n",
    "print(\"Accuracy\",metrics.accuracy_score(y_test, best_preds))\n",
    "print(\"Classification_report:\\n\",metrics.classification_report(y_test, best_preds))"
   ]
  },
  {
   "cell_type": "markdown",
   "metadata": {},
   "source": [
    "## Support Vector Machine\n",
    "* The running time is approximately 2h"
   ]
  },
  {
   "cell_type": "code",
   "execution_count": null,
   "metadata": {},
   "outputs": [],
   "source": [
    "svclassifier = SVC(kernel='rbf')\n",
    "svclassifier.fit(X_train, y_train)\n",
    "\n",
    "#apply the model\n",
    "y_pred = svclassifier.predict(X_test)\n",
    "\n",
    "# Model Accuracy, Precisiono and recall\n",
    "print(\"Confusion matrix:\\n\",metrics.confusion_matrix(y_test, y_pred))\n",
    "print(\"Accuracy\",metrics.accuracy_score(y_test, y_pred))\n",
    "print(\"Classification_report:\\n\",metrics.classification_report(y_test, y_pred))"
   ]
  },
  {
   "cell_type": "markdown",
   "metadata": {},
   "source": [
    "# External evaluation"
   ]
  },
  {
   "cell_type": "code",
   "execution_count": 98,
   "metadata": {},
   "outputs": [],
   "source": [
    "PATH = \"/Users/leeo/Desktop/KI2/7.master_thesis/1.data/12.feature_label_4h_control/combine_fe/test_data.csv\"\n",
    "dftest = pd.read_csv(PATH, sep=\",\", header=0,\n",
    "                       parse_dates=[0], index_col=0)\n",
    "\n",
    "X_test=dftest[dftest.columns[:-2]]  # Features\n",
    "y_test=dftest[dftest.columns[-2]]  # Labels"
   ]
  },
  {
   "cell_type": "code",
   "execution_count": 99,
   "metadata": {},
   "outputs": [
    {
     "name": "stdout",
     "output_type": "stream",
     "text": [
      "Confusion matrix:\n",
      " [[26284  2745   204]\n",
      " [ 1483   824   147]\n",
      " [  312   512   126]]\n",
      "Accuracy 0.8344516959279346\n",
      "Classification_report:\n",
      "               precision    recall  f1-score   support\n",
      "\n",
      "         0.0       0.94      0.90      0.92     29233\n",
      "         1.0       0.20      0.34      0.25      2454\n",
      "         2.0       0.26      0.13      0.18       950\n",
      "\n",
      "    accuracy                           0.83     32637\n",
      "   macro avg       0.47      0.46      0.45     32637\n",
      "weighted avg       0.86      0.83      0.85     32637\n",
      "\n"
     ]
    }
   ],
   "source": [
    "#RF\n",
    "#apply the model\n",
    "y_pred=clf.predict(X_test)\n",
    "\n",
    "# Model Accuracy, Precisiono and recall\n",
    "print(\"Confusion matrix:\\n\",metrics.confusion_matrix(y_test, y_pred))\n",
    "print(\"Accuracy\",metrics.accuracy_score(y_test, y_pred))\n",
    "print(\"Classification_report:\\n\",metrics.classification_report(y_test, y_pred))"
   ]
  },
  {
   "cell_type": "code",
   "execution_count": 100,
   "metadata": {},
   "outputs": [
    {
     "name": "stderr",
     "output_type": "stream",
     "text": [
      "/anaconda3/envs/p3/lib/python3.7/site-packages/xgboost/core.py:587: FutureWarning: Series.base is deprecated and will be removed in a future version\n",
      "  if getattr(data, 'base', None) is not None and \\\n",
      "/anaconda3/envs/p3/lib/python3.7/site-packages/xgboost/core.py:588: FutureWarning: Series.base is deprecated and will be removed in a future version\n",
      "  data.base is not None and isinstance(data, np.ndarray) \\\n"
     ]
    },
    {
     "name": "stdout",
     "output_type": "stream",
     "text": [
      "[20:12:01] 32637x16 matrix with 522192 entries loaded from dtest.svm\n"
     ]
    }
   ],
   "source": [
    "# use DMatrix for xgbosot\n",
    "dtest = xgb.DMatrix(X_test, label=y_test)\n",
    "\n",
    "\n",
    "# use svmlight file for xgboost\n",
    "dump_svmlight_file(X_test, y_test, 'dtest.svm', zero_based=True)\n",
    "dtest_svm = xgb.DMatrix('dtest.svm')\n",
    "\n",
    "# set xgboost params\n",
    "param = {\n",
    "    'max_depth': 3,  # the maximum depth of each tree\n",
    "    'eta': 0.3,  # the training step for each iteration\n",
    "    'silent': 1,  # logging mode - quiet\n",
    "    'objective': 'multi:softprob',  # error evaluation for multiclass training\n",
    "    'num_class': 3}  # the number of classes that exist in this datset\n",
    "num_round = 10  # the number of training iterations"
   ]
  },
  {
   "cell_type": "code",
   "execution_count": 101,
   "metadata": {},
   "outputs": [
    {
     "name": "stdout",
     "output_type": "stream",
     "text": [
      "Confusion matrix:\n",
      " [[25477  3584   172]\n",
      " [ 1314  1017   123]\n",
      " [  130   743    77]]\n",
      "Accuracy 0.8141373287986028\n",
      "Classification_report:\n",
      "               precision    recall  f1-score   support\n",
      "\n",
      "         0.0       0.95      0.87      0.91     29233\n",
      "         1.0       0.19      0.41      0.26      2454\n",
      "         2.0       0.21      0.08      0.12       950\n",
      "\n",
      "    accuracy                           0.81     32637\n",
      "   macro avg       0.45      0.46      0.43     32637\n",
      "weighted avg       0.87      0.81      0.84     32637\n",
      "\n"
     ]
    }
   ],
   "source": [
    "# training and testing - numpy matrices\n",
    "preds = bst.predict(dtest)\n",
    "best_preds = np.asarray([np.argmax(line) for line in preds])\n",
    "\n",
    "#model evaluation: Model Accuracy, Precisiono and recall\n",
    "print(\"Confusion matrix:\\n\",metrics.confusion_matrix(y_test, best_preds))\n",
    "print(\"Accuracy\",metrics.accuracy_score(y_test, best_preds))\n",
    "print(\"Classification_report:\\n\",metrics.classification_report(y_test, best_preds))"
   ]
  },
  {
   "cell_type": "code",
   "execution_count": null,
   "metadata": {},
   "outputs": [],
   "source": []
  },
  {
   "cell_type": "code",
   "execution_count": null,
   "metadata": {},
   "outputs": [],
   "source": []
  }
 ],
 "metadata": {
  "kernelspec": {
   "display_name": "Python [conda env:p3]",
   "language": "python",
   "name": "conda-env-p3-py"
  },
  "language_info": {
   "codemirror_mode": {
    "name": "ipython",
    "version": 3
   },
   "file_extension": ".py",
   "mimetype": "text/x-python",
   "name": "python",
   "nbconvert_exporter": "python",
   "pygments_lexer": "ipython3",
   "version": "3.7.3"
  }
 },
 "nbformat": 4,
 "nbformat_minor": 2
}
