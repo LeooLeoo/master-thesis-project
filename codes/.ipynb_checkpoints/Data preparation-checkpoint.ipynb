{
 "cells": [
  {
   "cell_type": "markdown",
   "metadata": {},
   "source": [
    "# Data preparation\n",
    "This code is to prepare the data for data preprocessing. The data is first exported from software LabChart \".adicht\" file to \".txt\" file, and the separte file will be transformed into a time series \".csv\" file. After this, all the data from one object will be combined into a single time series \".csv\" file.\n",
    "\n",
    "Sample data is no.17273, date:10-11-2017 to 20-11-2017; \n",
    "## 1. export the raw data from LabChart\n",
    "> First the raw data is export from software LabChart into .txt file with:\n",
    "> * Necessary labels (comments from the software)\n",
    "> * Channel:TP-AmnP (Featal respiration rate without noise), FHR (Fetal heart rate, which is the cyclic measurement of artery blood pressure)\n",
    "> * Parameters: Output NaN for values, Time (always seconds), Date, Ignore regional options\n",
    "> * Downsample: to 0.5s/ponit (if 2k/s choose 1000, if 1k/s choose 500)"
   ]
  },
  {
   "cell_type": "markdown",
   "metadata": {},
   "source": [
    "## 2. transform .txt into pd.dataframe\n",
    "> After that, load the data into a pd.dataframe:\n",
    "> * load all libraries & specify the path to the data\n",
    "> * specify column names & transform the raw data into correct dtype"
   ]
  },
  {
   "cell_type": "code",
   "execution_count": 1599,
   "metadata": {},
   "outputs": [],
   "source": [
    "#load libraries\n",
    "from datetime import datetime, timedelta\n",
    "from dateutil import parser\n",
    "import numpy as np\n",
    "import pandas as pd\n",
    "import matplotlib.pyplot as plt\n",
    "import seaborn; seaborn.set()\n",
    "import csv\n",
    "import os\n",
    "\n",
    "#specify the data dir\n",
    "data_file = \"/Users/leeo/Desktop/KI2/7.master_thesis/1.data/18220_txt/18220_30-09-18.txt\""
   ]
  },
  {
   "cell_type": "code",
   "execution_count": 1600,
   "metadata": {},
   "outputs": [
    {
     "name": "stdout",
     "output_type": "stream",
     "text": [
      "Please check the values and data type for each column! If anything wrong, please recheck the channels!(HR should be more than 100)\n",
      "Time        timedelta64[ns]\n",
      "Date         datetime64[ns]\n",
      "Resp                float64\n",
      "HR                  float64\n",
      "Comments             object\n",
      "dtype: object\n"
     ]
    },
    {
     "data": {
      "text/html": [
       "<div>\n",
       "<style scoped>\n",
       "    .dataframe tbody tr th:only-of-type {\n",
       "        vertical-align: middle;\n",
       "    }\n",
       "\n",
       "    .dataframe tbody tr th {\n",
       "        vertical-align: top;\n",
       "    }\n",
       "\n",
       "    .dataframe thead th {\n",
       "        text-align: right;\n",
       "    }\n",
       "</style>\n",
       "<table border=\"1\" class=\"dataframe\">\n",
       "  <thead>\n",
       "    <tr style=\"text-align: right;\">\n",
       "      <th></th>\n",
       "      <th>Time</th>\n",
       "      <th>Date</th>\n",
       "      <th>Resp</th>\n",
       "      <th>HR</th>\n",
       "      <th>Comments</th>\n",
       "    </tr>\n",
       "  </thead>\n",
       "  <tbody>\n",
       "    <tr>\n",
       "      <th>0</th>\n",
       "      <td>00:00:00</td>\n",
       "      <td>2018-09-30</td>\n",
       "      <td>-2.405029</td>\n",
       "      <td>181.3842</td>\n",
       "      <td>NaN</td>\n",
       "    </tr>\n",
       "    <tr>\n",
       "      <th>1</th>\n",
       "      <td>00:00:00.500000</td>\n",
       "      <td>2018-09-30</td>\n",
       "      <td>-2.430016</td>\n",
       "      <td>174.8588</td>\n",
       "      <td>NaN</td>\n",
       "    </tr>\n",
       "    <tr>\n",
       "      <th>2</th>\n",
       "      <td>00:00:01</td>\n",
       "      <td>2018-09-30</td>\n",
       "      <td>-2.447311</td>\n",
       "      <td>170.2079</td>\n",
       "      <td>NaN</td>\n",
       "    </tr>\n",
       "    <tr>\n",
       "      <th>3</th>\n",
       "      <td>00:00:01.500000</td>\n",
       "      <td>2018-09-30</td>\n",
       "      <td>-2.327549</td>\n",
       "      <td>164.4879</td>\n",
       "      <td>NaN</td>\n",
       "    </tr>\n",
       "    <tr>\n",
       "      <th>4</th>\n",
       "      <td>00:00:02</td>\n",
       "      <td>2018-09-30</td>\n",
       "      <td>-2.593938</td>\n",
       "      <td>166.2011</td>\n",
       "      <td>NaN</td>\n",
       "    </tr>\n",
       "  </tbody>\n",
       "</table>\n",
       "</div>"
      ],
      "text/plain": [
       "             Time       Date      Resp        HR Comments\n",
       "0        00:00:00 2018-09-30 -2.405029  181.3842      NaN\n",
       "1 00:00:00.500000 2018-09-30 -2.430016  174.8588      NaN\n",
       "2        00:00:01 2018-09-30 -2.447311  170.2079      NaN\n",
       "3 00:00:01.500000 2018-09-30 -2.327549  164.4879      NaN\n",
       "4        00:00:02 2018-09-30 -2.593938  166.2011      NaN"
      ]
     },
     "execution_count": 1600,
     "metadata": {},
     "output_type": "execute_result"
    }
   ],
   "source": [
    "#load the data \n",
    "data = pd.read_csv(data_file, sep=\"\\t\", header=None, \n",
    "                   names=[\"Time\",\"Date\",\"Resp\",\"HR\",\"Comments\"])#cautious of each column\n",
    "#turn date and time into pd.timedelta and datetime\n",
    "data['Time'] = pd.to_timedelta(data['Time'], \"s\")\n",
    "data['Date'] = pd.to_datetime(data['Date'])\n",
    "print(\"Please check the values and data type for each column! If anything wrong, please recheck the channels!(HR should be more than 100)\")\n",
    "print(data.dtypes)\n",
    "data.head()"
   ]
  },
  {
   "cell_type": "markdown",
   "metadata": {},
   "source": [
    "## 3. transform the data into time series\n",
    "> * combine the date and time into Date_Time\n",
    "> * transform the data into time series\n",
    "> * check the time intervals of data"
   ]
  },
  {
   "cell_type": "code",
   "execution_count": 1601,
   "metadata": {},
   "outputs": [
    {
     "data": {
      "text/html": [
       "<div>\n",
       "<style scoped>\n",
       "    .dataframe tbody tr th:only-of-type {\n",
       "        vertical-align: middle;\n",
       "    }\n",
       "\n",
       "    .dataframe tbody tr th {\n",
       "        vertical-align: top;\n",
       "    }\n",
       "\n",
       "    .dataframe thead th {\n",
       "        text-align: right;\n",
       "    }\n",
       "</style>\n",
       "<table border=\"1\" class=\"dataframe\">\n",
       "  <thead>\n",
       "    <tr style=\"text-align: right;\">\n",
       "      <th></th>\n",
       "      <th>HR</th>\n",
       "      <th>Resp</th>\n",
       "      <th>Comments</th>\n",
       "    </tr>\n",
       "    <tr>\n",
       "      <th>Date_Time</th>\n",
       "      <th></th>\n",
       "      <th></th>\n",
       "      <th></th>\n",
       "    </tr>\n",
       "  </thead>\n",
       "  <tbody>\n",
       "    <tr>\n",
       "      <th>2018-10-01 11:59:57.500</th>\n",
       "      <td>147.5251</td>\n",
       "      <td>3.853581</td>\n",
       "      <td>NaN</td>\n",
       "    </tr>\n",
       "    <tr>\n",
       "      <th>2018-10-01 11:59:58.000</th>\n",
       "      <td>147.8366</td>\n",
       "      <td>3.674243</td>\n",
       "      <td>NaN</td>\n",
       "    </tr>\n",
       "    <tr>\n",
       "      <th>2018-10-01 11:59:58.500</th>\n",
       "      <td>146.6165</td>\n",
       "      <td>3.491465</td>\n",
       "      <td>NaN</td>\n",
       "    </tr>\n",
       "    <tr>\n",
       "      <th>2018-10-01 11:59:59.000</th>\n",
       "      <td>146.9116</td>\n",
       "      <td>3.380055</td>\n",
       "      <td>NaN</td>\n",
       "    </tr>\n",
       "    <tr>\n",
       "      <th>2018-10-01 11:59:59.500</th>\n",
       "      <td>NaN</td>\n",
       "      <td>3.132213</td>\n",
       "      <td>NaN</td>\n",
       "    </tr>\n",
       "  </tbody>\n",
       "</table>\n",
       "</div>"
      ],
      "text/plain": [
       "                               HR      Resp Comments\n",
       "Date_Time                                           \n",
       "2018-10-01 11:59:57.500  147.5251  3.853581      NaN\n",
       "2018-10-01 11:59:58.000  147.8366  3.674243      NaN\n",
       "2018-10-01 11:59:58.500  146.6165  3.491465      NaN\n",
       "2018-10-01 11:59:59.000  146.9116  3.380055      NaN\n",
       "2018-10-01 11:59:59.500       NaN  3.132213      NaN"
      ]
     },
     "execution_count": 1601,
     "metadata": {},
     "output_type": "execute_result"
    }
   ],
   "source": [
    "#fix the format for output\n",
    "data = data.reindex(columns=[\"Time\",\"Date\",\"HR\",\"Resp\",\"Comments\"])\n",
    "#combine the date and time\n",
    "data['Date_Time'] = data['Date']+data['Time']\n",
    "del data['Date'], data['Time']\n",
    "\n",
    "#tranform the time into index\n",
    "data.index = data['Date_Time'] \n",
    "del data['Date_Time'] \n",
    "\n",
    "# check time intervals\n",
    "set_time_intervals = pd.Timedelta(\"0.5s\")\n",
    "actual_time_intervals = data.index[1] -data.index[0]\n",
    "if (set_time_intervals != actual_time_intervals):\n",
    "    print(\"The time intervals now is:\", actual_time_intervals, \". Please check the downsample parameter!!\")\n",
    "    \n",
    "data.tail()"
   ]
  },
  {
   "cell_type": "markdown",
   "metadata": {},
   "source": [
    "## 4. check and handle missing values\n",
    "> * chech the sparsity of the data\n",
    "> * compute missing values with carry-forward (backforward if needed) method\n",
    "> * check the computation situation"
   ]
  },
  {
   "cell_type": "code",
   "execution_count": 1602,
   "metadata": {
    "scrolled": true
   },
   "outputs": [
    {
     "name": "stdout",
     "output_type": "stream",
     "text": [
      "There are 86400 missings in total, and 1 for HR, 0 for Resp.\n"
     ]
    }
   ],
   "source": [
    "#Check the number of missing values\n",
    "missing_total=data.isnull().sum().sum()\n",
    "missing_HR=data[\"HR\"].isnull().sum()\n",
    "missing_Resp=data[\"Resp\"].isnull().sum()\n",
    "print(\"There are {} missings in total, and {} for HR, {} for Resp.\".format(missing_total, missing_HR, missing_Resp))\n",
    "if missing_HR > 20: #should be less than 1%\n",
    "    raise Exception('Missing values of HR should not exceed 20.')\n",
    "if missing_Resp > 20: #should be less than 1%\n",
    "    raise Exception('Missing values of Resp should not exceed 20.')"
   ]
  },
  {
   "cell_type": "code",
   "execution_count": 1603,
   "metadata": {},
   "outputs": [
    {
     "name": "stdout",
     "output_type": "stream",
     "text": [
      "There are 86399 missings in total, and 0 for HR, 0 for Resp.\n"
     ]
    }
   ],
   "source": [
    "#compute missing values with carry forward & backward method\n",
    "data[\"HR\"].fillna(method='ffill', inplace =True)\n",
    "data[\"Resp\"].fillna(method='ffill', inplace =True)\n",
    "data[\"HR\"].fillna(method='bfill', inplace =True)\n",
    "data[\"Resp\"].fillna(method='bfill', inplace =True)\n",
    "#check the computation situation\n",
    "missing_total=data.isnull().sum().sum()\n",
    "missing_HR=data[\"HR\"].isnull().sum()\n",
    "missing_Resp=data[\"Resp\"].isnull().sum()\n",
    "print(\"There are {} missings in total, and {} for HR, {} for Resp.\".format(missing_total, missing_HR, missing_Resp))\n",
    "if missing_HR != 0:\n",
    "    raise Exception('Something wrong with missing values computing of HR.')\n",
    "if missing_Resp != 0:\n",
    "    raise Exception('Something wrong with missing values computing of Resp.')"
   ]
  },
  {
   "cell_type": "markdown",
   "metadata": {},
   "source": [
    "## 5. quick exploration of data"
   ]
  },
  {
   "cell_type": "code",
   "execution_count": 1604,
   "metadata": {
    "scrolled": false
   },
   "outputs": [
    {
     "data": {
      "text/plain": [
       "Date_Time\n",
       "2018-10-01 09:03:56    #* 300ng lps infusion \n",
       "Name: Comments, dtype: object"
      ]
     },
     "execution_count": 1604,
     "metadata": {},
     "output_type": "execute_result"
    }
   ],
   "source": [
    "#check the comments for label\n",
    "data[\"Comments\"][data[\"Comments\"].isnull()==False] "
   ]
  },
  {
   "cell_type": "code",
   "execution_count": 1605,
   "metadata": {},
   "outputs": [
    {
     "name": "stdout",
     "output_type": "stream",
     "text": [
      "The shape of data is:  (86400, 3)\n"
     ]
    },
    {
     "data": {
      "text/plain": [
       "Text(2018-09-30 10:03:59.602700, 0, 'comment time')"
      ]
     },
     "execution_count": 1605,
     "metadata": {},
     "output_type": "execute_result"
    },
    {
     "data": {
      "image/png": "[encoded data removed]",
      "text/plain": [
       "<Figure size 432x288 with 1 Axes>"
      ]
     },
     "metadata": {},
     "output_type": "display_data"
    }
   ],
   "source": [
    "t0 = pd.to_datetime(\"2018-09-30 10:03:59.602700\") #starting time for sepsis\n",
    "\n",
    "#quick look at the data\n",
    "print(\"The shape of data is: \", data.shape)\n",
    "data[\"HR\"].resample(\"10T\").mean().plot(color=\"b\",alpha=1)\n",
    "(data[\"Resp\"]*10).resample(\"10S\").mean().plot(color=\"g\",alpha=0.5)\n",
    "plt.legend([\"Heart Rate\", \"Respiration Rate\"],\n",
    "          loc=\"upper center\")\n",
    "plt.axvline(t0, alpha=0.8, color =\"red\")\n",
    "plt.text(t0, 0,'comment time', color =\"red\",rotation=90)"
   ]
  },
  {
   "cell_type": "code",
   "execution_count": 1606,
   "metadata": {},
   "outputs": [],
   "source": [
    "#Export the data\n",
    "new_path = os.path.dirname(os.path.dirname(data_file))+\"/\"+os.path.dirname(data_file)[-9:-3]+\"ts/\"+data_file[-18:-4]+\".csv\"\n",
    "export_csv = data.to_csv (new_path, header=True)\n",
    "\n",
    "#slice the data if needed\n",
    "#data[\"Comments\"][data[\"Comments\"].isnull()==False] #find the place to slice with\n",
    "#data = data.loc[\"2018-06-28 0:33:59.602700\":]"
   ]
  },
  {
   "cell_type": "markdown",
   "metadata": {},
   "source": [
    "## 6. combine all data files of one object\n",
    "After all single time series from the same object have been transformed, execute this block to combine them into one single file."
   ]
  },
  {
   "cell_type": "code",
   "execution_count": 1607,
   "metadata": {},
   "outputs": [],
   "source": [
    "from os import listdir\n",
    "from os.path import isfile, join\n",
    "ts_dir = '/Users/leeo/Desktop/KI2/7.master_thesis/1.data/18220_ts'\n",
    "\n",
    "combined_data = []\n",
    "for f in listdir(ts_dir):\n",
    "    file_path = ts_dir+\"/\"+f\n",
    "    data = pd.read_csv(file_path, sep=\",\", header=0,\n",
    "                   parse_dates=[0], index_col=0)\n",
    "    # store DataFrame in list\n",
    "    combined_data.append(data)\n",
    "#concat all data in one\n",
    "combined_data = pd.concat(combined_data).sort_index()"
   ]
  },
  {
   "cell_type": "code",
   "execution_count": 1608,
   "metadata": {},
   "outputs": [
    {
     "data": {
      "text/plain": [
       "Date_Time\n",
       "2018-10-01 09:03:56.000000    #* 300ng lps infusion \n",
       "2018-10-02 07:23:17.473100    #* 600ng lps infusion \n",
       "Name: Comments, dtype: object"
      ]
     },
     "execution_count": 1608,
     "metadata": {},
     "output_type": "execute_result"
    }
   ],
   "source": [
    "#check the comments for label\n",
    "combined_data[\"Comments\"][combined_data[\"Comments\"].isnull()==False]"
   ]
  },
  {
   "cell_type": "code",
   "execution_count": 1609,
   "metadata": {},
   "outputs": [
    {
     "name": "stdout",
     "output_type": "stream",
     "text": [
      "The shape of data is:  (522251, 3)\n"
     ]
    },
    {
     "data": {
      "text/plain": [
       "Text(2018-10-02 07:23:17.473100, -1000, '3rd injection')"
      ]
     },
     "execution_count": 1609,
     "metadata": {},
     "output_type": "execute_result"
    },
    {
     "data": {
      "image/png": "[encoded data removed]",
      "text/plain": [
       "<Figure size 432x288 with 1 Axes>"
      ]
     },
     "metadata": {},
     "output_type": "display_data"
    }
   ],
   "source": [
    "t1 = pd.to_datetime(\"2018-10-01 09:03:56.000000\") \n",
    "t2 = pd.to_datetime(\"2018-10-02 07:23:17.473100\") \n",
    "t3 = pd.to_datetime(\"2018-10-02 07:23:17.473100\") \n",
    "\n",
    "#quick look at the data\n",
    "print(\"The shape of data is: \", combined_data.shape)\n",
    "combined_data[\"HR\"].resample(\"10T\").mean().plot(color=\"b\",alpha=1)\n",
    "(combined_data[\"Resp\"]*100).resample(\"10T\").mean().plot(color=\"g\",alpha=0.5)\n",
    "plt.legend([\"Heart Rate\", \"Respiration Rate\"],\n",
    "          loc=\"upper left\")\n",
    "plt.axvline(t1, alpha=0.8, color =\"red\")\n",
    "plt.text(t1,-1000,'1st injection', color =\"red\",rotation=90)\n",
    "plt.axvline(t2, alpha=0.8, color =\"red\")\n",
    "plt.text(t2,-1000,'2nd injection', color =\"red\",rotation=90)\n",
    "plt.axvline(t3, alpha=0.8, color =\"red\")\n",
    "plt.text(t3,-1000,'3rd injection', color =\"red\",rotation=90)"
   ]
  },
  {
   "cell_type": "code",
   "execution_count": 1610,
   "metadata": {},
   "outputs": [],
   "source": [
    "#Export the data\n",
    "object_path = ts_dir[:-8]+\"2.object_data_combined/\"+ts_dir[-8:-3]+\".csv\"\n",
    "export_csv = combined_data.to_csv(object_path, header=True)"
   ]
  },
  {
   "cell_type": "markdown",
   "metadata": {},
   "source": []
  }
 ],
 "metadata": {
  "kernelspec": {
   "display_name": "Python [conda env:p3]",
   "language": "python",
   "name": "conda-env-p3-py"
  },
  "language_info": {
   "codemirror_mode": {
    "name": "ipython",
    "version": 3
   },
   "file_extension": ".py",
   "mimetype": "text/x-python",
   "name": "python",
   "nbconvert_exporter": "python",
   "pygments_lexer": "ipython3",
   "version": "3.7.3"
  }
 },
 "nbformat": 4,
 "nbformat_minor": 2
}
