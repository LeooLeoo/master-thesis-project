{
 "cells": [
  {
   "cell_type": "markdown",
   "metadata": {},
   "source": [
    "# Data preparation\n",
    "This code is to prepare the data for data preprocessing. The data is first exported from software LabChart \".adicht\" file to \".txt\" file, and the separte file will be transformed into a time series \".csv\" file. After this, all the data from one object will be combined into a single time series \".csv\" file.\n",
    "\n",
    "Sample data is no.17273, date:10-11-2017 to 20-11-2017; \n",
    "## 1. export the raw data from LabChart\n",
    "> First the raw data is export from software LabChart into .txt file with:\n",
    "> * Necessary labels (comments from the software)\n",
    "> * Channel:TP-AmnP (Featal respiration rate without noise), FHR (Fetal heart rate, which is the cyclic measurement of artery blood pressure)\n",
    "> * Parameters: Output NaN for values, Time (always seconds), Date, Ignore regional options\n",
    "> * Downsample: to 0.5s/ponit (if 2k/s choose 1000, if 1k/s choose 500)"
   ]
  },
  {
   "cell_type": "markdown",
   "metadata": {},
   "source": [
    "## 2. transform .txt into pd.dataframe\n",
    "> After that, load the data into a pd.dataframe:\n",
    "> * load all libraries & specify the path to the data\n",
    "> * specify column names & transform the raw data into correct dtype"
   ]
  },
  {
   "cell_type": "code",
   "execution_count": 431,
   "metadata": {},
   "outputs": [],
   "source": [
    "#load libraries\n",
    "from datetime import datetime, timedelta\n",
    "from dateutil import parser\n",
    "import numpy as np\n",
    "import pandas as pd\n",
    "import matplotlib.pyplot as plt\n",
    "import seaborn; seaborn.set()\n",
    "import csv\n",
    "import os\n",
    "\n",
    "#specify the data dir\n",
    "data_file = \"/Users/leeo/Desktop/KI2/7.master_thesis/1.data/19286_txt/19286_27-11-19.txt\""
   ]
  },
  {
   "cell_type": "code",
   "execution_count": 432,
   "metadata": {},
   "outputs": [
    {
     "name": "stdout",
     "output_type": "stream",
     "text": [
      "Please check the values and data type for each column! If anything wrong, please recheck the channels!(HR should be more than 100)\n",
      "Time        timedelta64[ns]\n",
      "Date         datetime64[ns]\n",
      "Resp                float64\n",
      "HR                  float64\n",
      "Comments            float64\n",
      "dtype: object\n"
     ]
    },
    {
     "data": {
      "text/html": [
       "<div>\n",
       "<style scoped>\n",
       "    .dataframe tbody tr th:only-of-type {\n",
       "        vertical-align: middle;\n",
       "    }\n",
       "\n",
       "    .dataframe tbody tr th {\n",
       "        vertical-align: top;\n",
       "    }\n",
       "\n",
       "    .dataframe thead th {\n",
       "        text-align: right;\n",
       "    }\n",
       "</style>\n",
       "<table border=\"1\" class=\"dataframe\">\n",
       "  <thead>\n",
       "    <tr style=\"text-align: right;\">\n",
       "      <th></th>\n",
       "      <th>Time</th>\n",
       "      <th>Date</th>\n",
       "      <th>Resp</th>\n",
       "      <th>HR</th>\n",
       "      <th>Comments</th>\n",
       "    </tr>\n",
       "  </thead>\n",
       "  <tbody>\n",
       "    <tr>\n",
       "      <th>0</th>\n",
       "      <td>11:59:41.367500</td>\n",
       "      <td>2019-11-27</td>\n",
       "      <td>4.380040</td>\n",
       "      <td>106.5610</td>\n",
       "      <td>NaN</td>\n",
       "    </tr>\n",
       "    <tr>\n",
       "      <th>1</th>\n",
       "      <td>11:59:41.867500</td>\n",
       "      <td>2019-11-27</td>\n",
       "      <td>4.418809</td>\n",
       "      <td>142.6746</td>\n",
       "      <td>NaN</td>\n",
       "    </tr>\n",
       "    <tr>\n",
       "      <th>2</th>\n",
       "      <td>11:59:42.367500</td>\n",
       "      <td>2019-11-27</td>\n",
       "      <td>5.209805</td>\n",
       "      <td>178.6523</td>\n",
       "      <td>NaN</td>\n",
       "    </tr>\n",
       "    <tr>\n",
       "      <th>3</th>\n",
       "      <td>11:59:42.867500</td>\n",
       "      <td>2019-11-27</td>\n",
       "      <td>4.507056</td>\n",
       "      <td>167.5875</td>\n",
       "      <td>NaN</td>\n",
       "    </tr>\n",
       "    <tr>\n",
       "      <th>4</th>\n",
       "      <td>11:59:43.367500</td>\n",
       "      <td>2019-11-27</td>\n",
       "      <td>3.918657</td>\n",
       "      <td>176.1241</td>\n",
       "      <td>NaN</td>\n",
       "    </tr>\n",
       "  </tbody>\n",
       "</table>\n",
       "</div>"
      ],
      "text/plain": [
       "             Time       Date      Resp        HR  Comments\n",
       "0 11:59:41.367500 2019-11-27  4.380040  106.5610       NaN\n",
       "1 11:59:41.867500 2019-11-27  4.418809  142.6746       NaN\n",
       "2 11:59:42.367500 2019-11-27  5.209805  178.6523       NaN\n",
       "3 11:59:42.867500 2019-11-27  4.507056  167.5875       NaN\n",
       "4 11:59:43.367500 2019-11-27  3.918657  176.1241       NaN"
      ]
     },
     "execution_count": 432,
     "metadata": {},
     "output_type": "execute_result"
    }
   ],
   "source": [
    "#load the data \n",
    "data = pd.read_csv(data_file, sep=\"\\t\", header=None, \n",
    "                   names=[\"Time\",\"Date\",\"Resp\",\"HR\",\"Comments\"])#cautious of each column\n",
    "#turn date and time into pd.timedelta and datetime\n",
    "data['Time'] = pd.to_timedelta(data['Time'], \"s\")\n",
    "data['Date'] = pd.to_datetime(data['Date'])\n",
    "print(\"Please check the values and data type for each column! If anything wrong, please recheck the channels!(HR should be more than 100)\")\n",
    "print(data.dtypes)\n",
    "data.head()"
   ]
  },
  {
   "cell_type": "markdown",
   "metadata": {},
   "source": [
    "## 3. transform the data into time series\n",
    "> * combine the date and time into Date_Time\n",
    "> * transform the data into time series\n",
    "> * check the time intervals of data"
   ]
  },
  {
   "cell_type": "code",
   "execution_count": 433,
   "metadata": {},
   "outputs": [
    {
     "data": {
      "text/html": [
       "<div>\n",
       "<style scoped>\n",
       "    .dataframe tbody tr th:only-of-type {\n",
       "        vertical-align: middle;\n",
       "    }\n",
       "\n",
       "    .dataframe tbody tr th {\n",
       "        vertical-align: top;\n",
       "    }\n",
       "\n",
       "    .dataframe thead th {\n",
       "        text-align: right;\n",
       "    }\n",
       "</style>\n",
       "<table border=\"1\" class=\"dataframe\">\n",
       "  <thead>\n",
       "    <tr style=\"text-align: right;\">\n",
       "      <th></th>\n",
       "      <th>HR</th>\n",
       "      <th>Resp</th>\n",
       "      <th>Comments</th>\n",
       "    </tr>\n",
       "    <tr>\n",
       "      <th>Date_Time</th>\n",
       "      <th></th>\n",
       "      <th></th>\n",
       "      <th></th>\n",
       "    </tr>\n",
       "  </thead>\n",
       "  <tbody>\n",
       "    <tr>\n",
       "      <th>2019-11-28 12:13:45.867500</th>\n",
       "      <td>156.2146</td>\n",
       "      <td>0.027643</td>\n",
       "      <td>NaN</td>\n",
       "    </tr>\n",
       "    <tr>\n",
       "      <th>2019-11-28 12:13:46.367500</th>\n",
       "      <td>156.1373</td>\n",
       "      <td>0.110250</td>\n",
       "      <td>NaN</td>\n",
       "    </tr>\n",
       "    <tr>\n",
       "      <th>2019-11-28 12:13:46.867500</th>\n",
       "      <td>158.2046</td>\n",
       "      <td>-0.015145</td>\n",
       "      <td>NaN</td>\n",
       "    </tr>\n",
       "    <tr>\n",
       "      <th>2019-11-28 12:13:47.367500</th>\n",
       "      <td>154.9153</td>\n",
       "      <td>-0.093447</td>\n",
       "      <td>NaN</td>\n",
       "    </tr>\n",
       "    <tr>\n",
       "      <th>2019-11-28 12:13:47.867500</th>\n",
       "      <td>156.0312</td>\n",
       "      <td>-0.019253</td>\n",
       "      <td>NaN</td>\n",
       "    </tr>\n",
       "  </tbody>\n",
       "</table>\n",
       "</div>"
      ],
      "text/plain": [
       "                                  HR      Resp  Comments\n",
       "Date_Time                                               \n",
       "2019-11-28 12:13:45.867500  156.2146  0.027643       NaN\n",
       "2019-11-28 12:13:46.367500  156.1373  0.110250       NaN\n",
       "2019-11-28 12:13:46.867500  158.2046 -0.015145       NaN\n",
       "2019-11-28 12:13:47.367500  154.9153 -0.093447       NaN\n",
       "2019-11-28 12:13:47.867500  156.0312 -0.019253       NaN"
      ]
     },
     "execution_count": 433,
     "metadata": {},
     "output_type": "execute_result"
    }
   ],
   "source": [
    "#fix the format for output\n",
    "data = data.reindex(columns=[\"Time\",\"Date\",\"HR\",\"Resp\",\"Comments\"])\n",
    "#combine the date and time\n",
    "data['Date_Time'] = data['Date']+data['Time']\n",
    "del data['Date'], data['Time']\n",
    "\n",
    "#tranform the time into index\n",
    "data.index = data['Date_Time'] \n",
    "del data['Date_Time'] \n",
    "\n",
    "# check time intervals\n",
    "set_time_intervals = pd.Timedelta(\"0.5s\")\n",
    "actual_time_intervals = data.index[1] -data.index[0]\n",
    "if (set_time_intervals != actual_time_intervals):\n",
    "    print(\"The time intervals now is:\", actual_time_intervals, \". Please check the downsample parameter!!\")\n",
    "    \n",
    "data.tail()"
   ]
  },
  {
   "cell_type": "markdown",
   "metadata": {},
   "source": [
    "## 4. check and handle missing values\n",
    "> * chech the sparsity of the data\n",
    "> * compute missing values with carry-forward (backforward if needed) method\n",
    "> * check the computation situation"
   ]
  },
  {
   "cell_type": "code",
   "execution_count": 434,
   "metadata": {
    "scrolled": true
   },
   "outputs": [
    {
     "name": "stdout",
     "output_type": "stream",
     "text": [
      "There are 174494 missings in total, and 0 for HR, 0 for Resp.\n"
     ]
    }
   ],
   "source": [
    "#Check the number of missing values\n",
    "missing_total=data.isnull().sum().sum()\n",
    "missing_HR=data[\"HR\"].isnull().sum()\n",
    "missing_Resp=data[\"Resp\"].isnull().sum()\n",
    "print(\"There are {} missings in total, and {} for HR, {} for Resp.\".format(missing_total, missing_HR, missing_Resp))\n",
    "if missing_HR > 20: #should be less than 1%\n",
    "    raise Exception('Missing values of HR should not exceed 20.')\n",
    "if missing_Resp > 20: #should be less than 1%\n",
    "    raise Exception('Missing values of Resp should not exceed 20.')"
   ]
  },
  {
   "cell_type": "code",
   "execution_count": 435,
   "metadata": {},
   "outputs": [
    {
     "name": "stdout",
     "output_type": "stream",
     "text": [
      "There are 174494 missings in total, and 0 for HR, 0 for Resp.\n"
     ]
    }
   ],
   "source": [
    "#compute missing values with carry forward & backward method\n",
    "data[\"HR\"].fillna(method='ffill', inplace =True)\n",
    "data[\"Resp\"].fillna(method='ffill', inplace =True)\n",
    "data[\"HR\"].fillna(method='bfill', inplace =True)\n",
    "data[\"Resp\"].fillna(method='bfill', inplace =True)\n",
    "#check the computation situation\n",
    "missing_total=data.isnull().sum().sum()\n",
    "missing_HR=data[\"HR\"].isnull().sum()\n",
    "missing_Resp=data[\"Resp\"].isnull().sum()\n",
    "print(\"There are {} missings in total, and {} for HR, {} for Resp.\".format(missing_total, missing_HR, missing_Resp))\n",
    "if missing_HR != 0:\n",
    "    raise Exception('Something wrong with missing values computing of HR.')\n",
    "if missing_Resp != 0:\n",
    "    raise Exception('Something wrong with missing values computing of Resp.')"
   ]
  },
  {
   "cell_type": "markdown",
   "metadata": {},
   "source": [
    "## 5. quick exploration of data"
   ]
  },
  {
   "cell_type": "code",
   "execution_count": 436,
   "metadata": {
    "scrolled": false
   },
   "outputs": [
    {
     "data": {
      "text/plain": [
       "Series([], Name: Comments, dtype: float64)"
      ]
     },
     "execution_count": 436,
     "metadata": {},
     "output_type": "execute_result"
    }
   ],
   "source": [
    "#check the comments for label\n",
    "data[\"Comments\"][data[\"Comments\"].isnull()==False] "
   ]
  },
  {
   "cell_type": "code",
   "execution_count": 437,
   "metadata": {},
   "outputs": [
    {
     "name": "stdout",
     "output_type": "stream",
     "text": [
      "The shape of data is:  (174494, 3)\n"
     ]
    },
    {
     "data": {
      "text/plain": [
       "Text(2019-11-27 10:03:59.602700, 0, 'comment time')"
      ]
     },
     "execution_count": 437,
     "metadata": {},
     "output_type": "execute_result"
    },
    {
     "data": {
      "image/png": "[encoded data removed]",
      "text/plain": [
       "<Figure size 432x288 with 1 Axes>"
      ]
     },
     "metadata": {},
     "output_type": "display_data"
    }
   ],
   "source": [
    "t0 = pd.to_datetime(\"2019-11-27 10:03:59.602700\") #starting time for sepsis\n",
    "\n",
    "#quick look at the data\n",
    "print(\"The shape of data is: \", data.shape)\n",
    "data[\"HR\"].resample(\"10T\").mean().plot(color=\"b\",alpha=1)\n",
    "(data[\"Resp\"]*10).resample(\"10S\").mean().plot(color=\"g\",alpha=0.5)\n",
    "plt.legend([\"Heart Rate\", \"Respiration Rate\"],\n",
    "          loc=\"upper center\")\n",
    "plt.axvline(t0, alpha=0.8, color =\"red\")\n",
    "plt.text(t0, 0,'comment time', color =\"red\",rotation=90)"
   ]
  },
  {
   "cell_type": "code",
   "execution_count": 438,
   "metadata": {},
   "outputs": [],
   "source": [
    "#Export the data\n",
    "new_path = os.path.dirname(os.path.dirname(data_file))+\"/\"+os.path.dirname(data_file)[-9:-3]+\"ts/\"+data_file[-18:-4]+\".csv\"\n",
    "export_csv = data.to_csv (new_path, header=True)\n",
    "\n",
    "#slice the data if needed\n",
    "#data[\"Comments\"][data[\"Comments\"].isnull()==False] #find the place to slice with\n",
    "#data = data.loc[\"2018-06-28 0:33:59.602700\":]"
   ]
  },
  {
   "cell_type": "markdown",
   "metadata": {},
   "source": [
    "## 6. combine all data files of one object\n",
    "After all single time series from the same object have been transformed, execute this block to combine them into one single file."
   ]
  },
  {
   "cell_type": "code",
   "execution_count": 443,
   "metadata": {},
   "outputs": [
    {
     "name": "stderr",
     "output_type": "stream",
     "text": [
      "/anaconda3/envs/p3/lib/python3.7/site-packages/IPython/core/interactiveshell.py:3049: DtypeWarning: Columns (3) have mixed types. Specify dtype option on import or set low_memory=False.\n",
      "  interactivity=interactivity, compiler=compiler, result=result)\n"
     ]
    }
   ],
   "source": [
    "from os import listdir\n",
    "from os.path import isfile, join\n",
    "ts_dir = '/Users/leeo/Desktop/KI2/7.master_thesis/1.data/19288_ts'\n",
    "\n",
    "combined_data = []\n",
    "for f in listdir(ts_dir):\n",
    "    file_path = ts_dir+\"/\"+f\n",
    "    data = pd.read_csv(file_path, sep=\",\", header=0,\n",
    "                   parse_dates=[0], index_col=0)\n",
    "    # store DataFrame in list\n",
    "    combined_data.append(data)\n",
    "#concat all data in one\n",
    "combined_data = pd.concat(combined_data).sort_index()"
   ]
  },
  {
   "cell_type": "code",
   "execution_count": 444,
   "metadata": {},
   "outputs": [
    {
     "data": {
      "text/plain": [
       "Date_Time\n",
       "2019-12-02 08:24:10.158400                     #* 200ng lps \n",
       "2019-12-02 08:24:13.158400                     #* 300ng lps \n",
       "2019-12-02 09:08:05.445900    #2 Not breathing- wire issues \n",
       "2019-12-02 09:33:01.945900            #2 ibuprofen @ 9:30am \n",
       "Name: Comments, dtype: object"
      ]
     },
     "execution_count": 444,
     "metadata": {},
     "output_type": "execute_result"
    }
   ],
   "source": [
    "#check the comments for label\n",
    "combined_data[\"Comments\"][combined_data[\"Comments\"].isnull()==False]"
   ]
  },
  {
   "cell_type": "code",
   "execution_count": 445,
   "metadata": {},
   "outputs": [
    {
     "name": "stdout",
     "output_type": "stream",
     "text": [
      "The shape of data is:  (664722, 3)\n"
     ]
    },
    {
     "data": {
      "text/plain": [
       "Text(2019-12-02 08:24:13.158400, -1000, '3rd injection')"
      ]
     },
     "execution_count": 445,
     "metadata": {},
     "output_type": "execute_result"
    },
    {
     "data": {
      "image/png": "[encoded data removed]",
      "text/plain": [
       "<Figure size 432x288 with 1 Axes>"
      ]
     },
     "metadata": {},
     "output_type": "display_data"
    }
   ],
   "source": [
    "t1 = pd.to_datetime(\"2019-12-02 08:24:13.158400\") \n",
    "t2 = pd.to_datetime(\"2019-12-02 08:24:13.158400\") \n",
    "t3 = pd.to_datetime(\"2019-12-02 08:24:13.158400\") \n",
    "\n",
    "#quick look at the data\n",
    "print(\"The shape of data is: \", combined_data.shape)\n",
    "combined_data[\"HR\"].resample(\"10T\").mean().plot(color=\"b\",alpha=1)\n",
    "(combined_data[\"Resp\"]*100).resample(\"10T\").mean().plot(color=\"g\",alpha=0.5)\n",
    "plt.legend([\"Heart Rate\", \"Respiration Rate\"],\n",
    "          loc=\"upper left\")\n",
    "plt.axvline(t1, alpha=0.8, color =\"red\")\n",
    "plt.text(t1,-1000,'1st injection', color =\"red\",rotation=90)\n",
    "plt.axvline(t2, alpha=0.8, color =\"red\")\n",
    "plt.text(t2,-1000,'2nd injection', color =\"red\",rotation=90)\n",
    "plt.axvline(t3, alpha=0.8, color =\"red\")\n",
    "plt.text(t3,-1000,'3rd injection', color =\"red\",rotation=90)"
   ]
  },
  {
   "cell_type": "code",
   "execution_count": 446,
   "metadata": {},
   "outputs": [],
   "source": [
    "#Export the data\n",
    "object_path = ts_dir[:-8]+\"2.object_data_combined/\"+ts_dir[-8:-3]+\".csv\"\n",
    "export_csv = combined_data.to_csv(object_path, header=True)"
   ]
  },
  {
   "cell_type": "code",
   "execution_count": null,
   "metadata": {},
   "outputs": [],
   "source": [
    "#slice the data if needed\n",
    "#combined_data = combined_data.loc[\"2018-10-31 16:16:42.408510\":]"
   ]
  },
  {
   "cell_type": "code",
   "execution_count": null,
   "metadata": {},
   "outputs": [],
   "source": []
  }
 ],
 "metadata": {
  "kernelspec": {
   "display_name": "Python [conda env:p3]",
   "language": "python",
   "name": "conda-env-p3-py"
  },
  "language_info": {
   "codemirror_mode": {
    "name": "ipython",
    "version": 3
   },
   "file_extension": ".py",
   "mimetype": "text/x-python",
   "name": "python",
   "nbconvert_exporter": "python",
   "pygments_lexer": "ipython3",
   "version": "3.7.3"
  }
 },
 "nbformat": 4,
 "nbformat_minor": 2
}
