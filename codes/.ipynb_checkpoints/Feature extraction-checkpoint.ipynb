{
 "cells": [
  {
   "cell_type": "markdown",
   "metadata": {},
   "source": [
    "# Feature extraction\n",
    "At this stage, the raw data should be transform into a standard time series format. This codes is to first transform the data into a \"cesium\" format, and then extract the feature from it."
   ]
  },
  {
   "cell_type": "code",
   "execution_count": 9,
   "metadata": {},
   "outputs": [],
   "source": [
    "#load libraries\n",
    "from datetime import datetime, timedelta\n",
    "from dateutil import parser\n",
    "import numpy as np\n",
    "import pandas as pd\n",
    "import matplotlib.pyplot as plt\n",
    "import csv\n",
    "from cesium import featurize\n",
    "\n",
    "#specify the data dir\n",
    "data_file = '/Users/leeo/Desktop/KI2/7.master_thesis/1.data/4.ts_format/17273_ts/17273_14-11-17.csv'"
   ]
  },
  {
   "cell_type": "code",
   "execution_count": 10,
   "metadata": {},
   "outputs": [
    {
     "data": {
      "text/html": [
       "<div>\n",
       "<style scoped>\n",
       "    .dataframe tbody tr th:only-of-type {\n",
       "        vertical-align: middle;\n",
       "    }\n",
       "\n",
       "    .dataframe tbody tr th {\n",
       "        vertical-align: top;\n",
       "    }\n",
       "\n",
       "    .dataframe thead th {\n",
       "        text-align: right;\n",
       "    }\n",
       "</style>\n",
       "<table border=\"1\" class=\"dataframe\">\n",
       "  <thead>\n",
       "    <tr style=\"text-align: right;\">\n",
       "      <th></th>\n",
       "      <th>HR</th>\n",
       "      <th>Resp</th>\n",
       "      <th>Comments</th>\n",
       "    </tr>\n",
       "    <tr>\n",
       "      <th>Date_Time</th>\n",
       "      <th></th>\n",
       "      <th></th>\n",
       "      <th></th>\n",
       "    </tr>\n",
       "  </thead>\n",
       "  <tbody>\n",
       "    <tr>\n",
       "      <th>2017-11-14 08:30:53.761200</th>\n",
       "      <td>161.2035</td>\n",
       "      <td>2.046443</td>\n",
       "      <td>NaN</td>\n",
       "    </tr>\n",
       "    <tr>\n",
       "      <th>2017-11-14 08:30:54.261200</th>\n",
       "      <td>149.3424</td>\n",
       "      <td>2.931300</td>\n",
       "      <td>NaN</td>\n",
       "    </tr>\n",
       "    <tr>\n",
       "      <th>2017-11-14 08:30:54.761200</th>\n",
       "      <td>139.5089</td>\n",
       "      <td>2.540741</td>\n",
       "      <td>NaN</td>\n",
       "    </tr>\n",
       "    <tr>\n",
       "      <th>2017-11-14 08:30:55.261200</th>\n",
       "      <td>170.1940</td>\n",
       "      <td>2.610959</td>\n",
       "      <td>NaN</td>\n",
       "    </tr>\n",
       "    <tr>\n",
       "      <th>2017-11-14 08:30:55.761200</th>\n",
       "      <td>162.9608</td>\n",
       "      <td>2.745577</td>\n",
       "      <td>NaN</td>\n",
       "    </tr>\n",
       "  </tbody>\n",
       "</table>\n",
       "</div>"
      ],
      "text/plain": [
       "                                  HR      Resp Comments\n",
       "Date_Time                                              \n",
       "2017-11-14 08:30:53.761200  161.2035  2.046443      NaN\n",
       "2017-11-14 08:30:54.261200  149.3424  2.931300      NaN\n",
       "2017-11-14 08:30:54.761200  139.5089  2.540741      NaN\n",
       "2017-11-14 08:30:55.261200  170.1940  2.610959      NaN\n",
       "2017-11-14 08:30:55.761200  162.9608  2.745577      NaN"
      ]
     },
     "execution_count": 10,
     "metadata": {},
     "output_type": "execute_result"
    }
   ],
   "source": [
    "data = pd.read_csv(data_file, header=0, index_col=0)\n",
    "data.index = pd.to_datetime(data.index)\n",
    "data.head()"
   ]
  },
  {
   "cell_type": "markdown",
   "metadata": {},
   "source": [
    "## Data slice : slice with windows"
   ]
  },
  {
   "cell_type": "code",
   "execution_count": 11,
   "metadata": {},
   "outputs": [
    {
     "data": {
      "text/plain": [
       "Date_Time\n",
       "2017-11-14 08:43:00.261200                  #* 600ng LPS \n",
       "2017-11-14 09:07:52.261200    #* finish giving 600ng lps \n",
       "Name: Comments, dtype: object"
      ]
     },
     "execution_count": 11,
     "metadata": {},
     "output_type": "execute_result"
    }
   ],
   "source": [
    "#check the comments for label\n",
    "data[\"Comments\"][data[\"Comments\"].isnull()==False]"
   ]
  },
  {
   "cell_type": "markdown",
   "metadata": {},
   "source": [
    "<img src=\"pictures/data_slicing_concepts.jpg\" width=\"800\" height=\"400\">"
   ]
  },
  {
   "cell_type": "code",
   "execution_count": 12,
   "metadata": {},
   "outputs": [
    {
     "name": "stdout",
     "output_type": "stream",
     "text": [
      "The starting time of sepsis status is 2017-11-14 08:43:00.261200, we choose 0 days 01:00:00 \n",
      "as time window, where each time frame rolls in 0 days 00:01:00, and therefore there is \n",
      "51 time frames in total \n"
     ]
    }
   ],
   "source": [
    "t0 = pd.to_datetime(\"2017-11-14 08:43:00.261200\") #starting time for sepsis\n",
    "delta_t = pd.Timedelta(\"1T\")\n",
    "time_frame = pd.Timedelta(\"10T\")\n",
    "time_window = pd.Timedelta(\"1h\")\n",
    "n = int((time_window - time_frame)/delta_t +1)\n",
    "t1 = t0 + pd.Timedelta(\"1.5h\") #starting time for sepsis recover\n",
    "\n",
    "print(\"The starting time of sepsis status is {}, we choose {} \\nas time window, where each time frame rolls in {}, and therefore there is \\n{} time frames in total \".format(\n",
    "t0, time_window, delta_t, n))"
   ]
  },
  {
   "cell_type": "code",
   "execution_count": 13,
   "metadata": {},
   "outputs": [
    {
     "name": "stdout",
     "output_type": "stream",
     "text": [
      "Within the <class 'list'> of cesium_values, there are 51 objects, and each object is a <class 'numpy.ndarray'> with the shape of (2, 1200). Example: \n",
      "[[162.9751    163.9367    145.1801    ... 177.4922    174.2096\n",
      "  173.2778   ]\n",
      " [  0.7797833   2.247328    1.728741  ...   4.206926    4.13492\n",
      "    4.254256 ]]\n"
     ]
    }
   ],
   "source": [
    "cesium_times = []\n",
    "cesium_values = []\n",
    "for i in range(n):\n",
    "    t_0_start = t0 + delta_t*i\n",
    "    t_0_stop = t_0_start + time_frame - pd.Timedelta(\"0.5s\")\n",
    "    cesium_df = data[t_0_start:t_0_stop]\n",
    "    cesium_t = cesium_df.loc[t_0_start:t_0_stop].index.to_numpy()\n",
    "    cesium_HR = cesium_df.loc[t_0_start:t_0_stop].HR.to_numpy()\n",
    "    cesium_Resp = cesium_df.loc[t_0_start:t_0_stop].Resp.to_numpy()\n",
    "    \n",
    "    #list for labels?\n",
    "    cesium_values.append(np.array([cesium_HR,cesium_Resp]))\n",
    "    cesium_times.append(np.array([cesium_t.astype(\"float\"),cesium_t.astype(\"float\")]))\n",
    "if len(cesium_values) != n:\n",
    "    raise Exception('The time window is incontinous, please check the experiment data.')\n",
    "if cesium_values[0].shape != (2, time_frame.total_seconds()/pd.Timedelta(\"0.5s\").total_seconds()):\n",
    "    raise Exception('Check the HR or Resp values, if there any missing values, or you forget to include one of them.')\n",
    "    \n",
    "print(\"Within the {} of cesium_values, there are {} objects, and each object is a {} with the shape of {}. Example: \\n{}\".format(\n",
    "type(cesium_values), len(cesium_values), type(cesium_values[0]), cesium_values[0].shape,cesium_values[0]))"
   ]
  },
  {
   "cell_type": "code",
   "execution_count": null,
   "metadata": {},
   "outputs": [],
   "source": []
  }
 ],
 "metadata": {
  "kernelspec": {
   "display_name": "Python [conda env:p3]",
   "language": "python",
   "name": "conda-env-p3-py"
  },
  "language_info": {
   "codemirror_mode": {
    "name": "ipython",
    "version": 3
   },
   "file_extension": ".py",
   "mimetype": "text/x-python",
   "name": "python",
   "nbconvert_exporter": "python",
   "pygments_lexer": "ipython3",
   "version": "3.7.3"
  }
 },
 "nbformat": 4,
 "nbformat_minor": 2
}
