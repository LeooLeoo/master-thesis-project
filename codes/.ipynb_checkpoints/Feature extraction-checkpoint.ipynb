{
 "cells": [
  {
   "cell_type": "markdown",
   "metadata": {},
   "source": [
    "# Feature extraction\n",
    "At this stage, the raw data should be transform into a standard time series format. This codes is to first transform the data into a \"cesium\" format, and then extract the feature from it."
   ]
  },
  {
   "cell_type": "code",
   "execution_count": 1,
   "metadata": {},
   "outputs": [],
   "source": [
    "#load libraries\n",
    "from datetime import datetime, timedelta\n",
    "from dateutil import parser\n",
    "import numpy as np\n",
    "import pandas as pd\n",
    "import matplotlib.pyplot as plt\n",
    "import csv\n",
    "\n",
    "#specify the data dir\n",
    "data_file = '/Users/leeo/Downloads/17273_13-11-17_ts.csv'"
   ]
  },
  {
   "cell_type": "code",
   "execution_count": 4,
   "metadata": {},
   "outputs": [
    {
     "data": {
      "text/html": [
       "<div>\n",
       "<style scoped>\n",
       "    .dataframe tbody tr th:only-of-type {\n",
       "        vertical-align: middle;\n",
       "    }\n",
       "\n",
       "    .dataframe tbody tr th {\n",
       "        vertical-align: top;\n",
       "    }\n",
       "\n",
       "    .dataframe thead th {\n",
       "        text-align: right;\n",
       "    }\n",
       "</style>\n",
       "<table border=\"1\" class=\"dataframe\">\n",
       "  <thead>\n",
       "    <tr style=\"text-align: right;\">\n",
       "      <th></th>\n",
       "      <th>162.64</th>\n",
       "      <th>2.420671</th>\n",
       "      <th>Unnamed: 3</th>\n",
       "    </tr>\n",
       "    <tr>\n",
       "      <th>2017-11-13 10:21:49.355800</th>\n",
       "      <th></th>\n",
       "      <th></th>\n",
       "      <th></th>\n",
       "    </tr>\n",
       "  </thead>\n",
       "  <tbody>\n",
       "    <tr>\n",
       "      <th>2017-11-13 10:21:49.855800</th>\n",
       "      <td>167.7724</td>\n",
       "      <td>1.473044</td>\n",
       "      <td>NaN</td>\n",
       "    </tr>\n",
       "    <tr>\n",
       "      <th>2017-11-13 10:21:50.355800</th>\n",
       "      <td>167.3049</td>\n",
       "      <td>0.916979</td>\n",
       "      <td>NaN</td>\n",
       "    </tr>\n",
       "    <tr>\n",
       "      <th>2017-11-13 10:21:50.855800</th>\n",
       "      <td>164.9741</td>\n",
       "      <td>2.693337</td>\n",
       "      <td>NaN</td>\n",
       "    </tr>\n",
       "    <tr>\n",
       "      <th>2017-11-13 10:21:51.355800</th>\n",
       "      <td>170.3801</td>\n",
       "      <td>4.941797</td>\n",
       "      <td>NaN</td>\n",
       "    </tr>\n",
       "    <tr>\n",
       "      <th>2017-11-13 10:21:51.855800</th>\n",
       "      <td>166.2661</td>\n",
       "      <td>3.658687</td>\n",
       "      <td>NaN</td>\n",
       "    </tr>\n",
       "    <tr>\n",
       "      <th>2017-11-13 10:21:52.355800</th>\n",
       "      <td>165.1364</td>\n",
       "      <td>4.106022</td>\n",
       "      <td>NaN</td>\n",
       "    </tr>\n",
       "    <tr>\n",
       "      <th>2017-11-13 10:21:52.855800</th>\n",
       "      <td>167.6637</td>\n",
       "      <td>2.829640</td>\n",
       "      <td>NaN</td>\n",
       "    </tr>\n",
       "    <tr>\n",
       "      <th>2017-11-13 10:21:53.355800</th>\n",
       "      <td>166.7505</td>\n",
       "      <td>3.518289</td>\n",
       "      <td>NaN</td>\n",
       "    </tr>\n",
       "    <tr>\n",
       "      <th>2017-11-13 10:21:53.855800</th>\n",
       "      <td>175.5888</td>\n",
       "      <td>4.588646</td>\n",
       "      <td>NaN</td>\n",
       "    </tr>\n",
       "    <tr>\n",
       "      <th>2017-11-13 10:21:54.355800</th>\n",
       "      <td>178.7781</td>\n",
       "      <td>3.208499</td>\n",
       "      <td>NaN</td>\n",
       "    </tr>\n",
       "  </tbody>\n",
       "</table>\n",
       "</div>"
      ],
      "text/plain": [
       "                              162.64  2.420671 Unnamed: 3\n",
       "2017-11-13 10:21:49.355800                               \n",
       "2017-11-13 10:21:49.855800  167.7724  1.473044        NaN\n",
       "2017-11-13 10:21:50.355800  167.3049  0.916979        NaN\n",
       "2017-11-13 10:21:50.855800  164.9741  2.693337        NaN\n",
       "2017-11-13 10:21:51.355800  170.3801  4.941797        NaN\n",
       "2017-11-13 10:21:51.855800  166.2661  3.658687        NaN\n",
       "2017-11-13 10:21:52.355800  165.1364  4.106022        NaN\n",
       "2017-11-13 10:21:52.855800  167.6637  2.829640        NaN\n",
       "2017-11-13 10:21:53.355800  166.7505  3.518289        NaN\n",
       "2017-11-13 10:21:53.855800  175.5888  4.588646        NaN\n",
       "2017-11-13 10:21:54.355800  178.7781  3.208499        NaN"
      ]
     },
     "execution_count": 4,
     "metadata": {},
     "output_type": "execute_result"
    }
   ],
   "source": [
    "data = pd.read_csv(data_file, header=1, index_col=0)\n",
    "data.head(10)"
   ]
  },
  {
   "cell_type": "code",
   "execution_count": null,
   "metadata": {},
   "outputs": [],
   "source": []
  }
 ],
 "metadata": {
  "kernelspec": {
   "display_name": "Python [conda env:p3]",
   "language": "python",
   "name": "conda-env-p3-py"
  },
  "language_info": {
   "codemirror_mode": {
    "name": "ipython",
    "version": 3
   },
   "file_extension": ".py",
   "mimetype": "text/x-python",
   "name": "python",
   "nbconvert_exporter": "python",
   "pygments_lexer": "ipython3",
   "version": "3.7.3"
  }
 },
 "nbformat": 4,
 "nbformat_minor": 2
}
