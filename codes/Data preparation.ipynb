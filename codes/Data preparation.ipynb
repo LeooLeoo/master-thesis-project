{
 "cells": [
  {
   "cell_type": "markdown",
   "metadata": {},
   "source": [
    "# Data preparation\n",
    "This code is to export the data from software LabChart .adicht file to time series .csv file.\n",
    "\n",
    "Sample data is no.17273, date:13-11-2017; \n",
    "## export the raw data from LabChart\n",
    "> First the raw data is export from software LabChart into .txt file with:\n",
    "> * necessary labels (comments from the software)\n",
    "> * Channel:TP-AmnP (TP-AP 273), FHR (Heart Rate A)\n",
    "> * Parameters: Output NaN for values, Time (always seconds), Date, Ignore regional options\n",
    "> * Downsample: to 0.5s/ponit"
   ]
  },
  {
   "cell_type": "markdown",
   "metadata": {},
   "source": [
    "## transform .txt into pd.dataframe\n",
    "> After that, load the data into a pd.dataframe:\n",
    "> * load all libraries\n",
    "> * specify the path to the data\n",
    "> * add column names and transform the raw data into correct dtype"
   ]
  },
  {
   "cell_type": "code",
   "execution_count": 31,
   "metadata": {},
   "outputs": [],
   "source": [
    "#load libraries\n",
    "from datetime import datetime, timedelta\n",
    "from dateutil import parser\n",
    "import numpy as np\n",
    "import pandas as pd\n",
    "import matplotlib.pyplot as plt\n",
    "import seaborn; seaborn.set()\n",
    "import csv\n",
    "import os\n",
    "\n",
    "#specify the data dir\n",
    "data_file = '/Users/leeo/Desktop/KI2/7.master_thesis/1.data/17273_txt/17273_14-11-17.txt'"
   ]
  },
  {
   "cell_type": "code",
   "execution_count": 32,
   "metadata": {},
   "outputs": [
    {
     "name": "stderr",
     "output_type": "stream",
     "text": [
      "/anaconda3/envs/p3/lib/python3.7/site-packages/IPython/core/interactiveshell.py:3049: DtypeWarning: Columns (4) have mixed types. Specify dtype option on import or set low_memory=False.\n",
      "  interactivity=interactivity, compiler=compiler, result=result)\n"
     ]
    },
    {
     "name": "stdout",
     "output_type": "stream",
     "text": [
      "Please check the values and data type for each column! If anything wrong, please recheck the channels!\n",
      "Time        timedelta64[ns]\n",
      "Date         datetime64[ns]\n",
      "Resp                float64\n",
      "HR                  float64\n",
      "Comments             object\n",
      "dtype: object\n"
     ]
    },
    {
     "data": {
      "text/html": [
       "<div>\n",
       "<style scoped>\n",
       "    .dataframe tbody tr th:only-of-type {\n",
       "        vertical-align: middle;\n",
       "    }\n",
       "\n",
       "    .dataframe tbody tr th {\n",
       "        vertical-align: top;\n",
       "    }\n",
       "\n",
       "    .dataframe thead th {\n",
       "        text-align: right;\n",
       "    }\n",
       "</style>\n",
       "<table border=\"1\" class=\"dataframe\">\n",
       "  <thead>\n",
       "    <tr style=\"text-align: right;\">\n",
       "      <th></th>\n",
       "      <th>Time</th>\n",
       "      <th>Date</th>\n",
       "      <th>Resp</th>\n",
       "      <th>HR</th>\n",
       "      <th>Comments</th>\n",
       "    </tr>\n",
       "  </thead>\n",
       "  <tbody>\n",
       "    <tr>\n",
       "      <th>168071</th>\n",
       "      <td>07:51:29.261200</td>\n",
       "      <td>2017-11-15</td>\n",
       "      <td>-0.176092</td>\n",
       "      <td>157.1303</td>\n",
       "      <td>NaN</td>\n",
       "    </tr>\n",
       "    <tr>\n",
       "      <th>168072</th>\n",
       "      <td>07:51:29.761200</td>\n",
       "      <td>2017-11-15</td>\n",
       "      <td>1.480491</td>\n",
       "      <td>151.8875</td>\n",
       "      <td>NaN</td>\n",
       "    </tr>\n",
       "    <tr>\n",
       "      <th>168073</th>\n",
       "      <td>07:51:30.261200</td>\n",
       "      <td>2017-11-15</td>\n",
       "      <td>1.515385</td>\n",
       "      <td>147.1784</td>\n",
       "      <td>NaN</td>\n",
       "    </tr>\n",
       "    <tr>\n",
       "      <th>168074</th>\n",
       "      <td>07:51:30.761200</td>\n",
       "      <td>2017-11-15</td>\n",
       "      <td>0.550766</td>\n",
       "      <td>142.9485</td>\n",
       "      <td>NaN</td>\n",
       "    </tr>\n",
       "    <tr>\n",
       "      <th>168075</th>\n",
       "      <td>07:51:31.261200</td>\n",
       "      <td>2017-11-15</td>\n",
       "      <td>0.346830</td>\n",
       "      <td>NaN</td>\n",
       "      <td>NaN</td>\n",
       "    </tr>\n",
       "  </tbody>\n",
       "</table>\n",
       "</div>"
      ],
      "text/plain": [
       "                  Time       Date      Resp        HR Comments\n",
       "168071 07:51:29.261200 2017-11-15 -0.176092  157.1303      NaN\n",
       "168072 07:51:29.761200 2017-11-15  1.480491  151.8875      NaN\n",
       "168073 07:51:30.261200 2017-11-15  1.515385  147.1784      NaN\n",
       "168074 07:51:30.761200 2017-11-15  0.550766  142.9485      NaN\n",
       "168075 07:51:31.261200 2017-11-15  0.346830       NaN      NaN"
      ]
     },
     "execution_count": 32,
     "metadata": {},
     "output_type": "execute_result"
    }
   ],
   "source": [
    "#load the data \n",
    "data = pd.read_csv(data_file, sep=\"\\t\", header=None, \n",
    "                   names=[\"Time\",\"Date\",\"Resp\",\"HR\",\"Comments\"])#cautious of each column\n",
    "#turn date and time into pd.timedelta and datetime\n",
    "data['Time'] = pd.to_timedelta(data['Time'], \"s\")\n",
    "data['Date'] = pd.to_datetime(data['Date'])\n",
    "print(\"Please check the values and data type for each column! If anything wrong, please recheck the channels!(HR should be more than 100)\")\n",
    "print(data.dtypes)\n",
    "data.tail()"
   ]
  },
  {
   "cell_type": "markdown",
   "metadata": {},
   "source": [
    "## transform the data into time series\n",
    "> * combine the date and time into Date_Time\n",
    "> * transform the data into time series\n",
    "> * check the time intervals of data"
   ]
  },
  {
   "cell_type": "code",
   "execution_count": 33,
   "metadata": {},
   "outputs": [
    {
     "data": {
      "text/html": [
       "<div>\n",
       "<style scoped>\n",
       "    .dataframe tbody tr th:only-of-type {\n",
       "        vertical-align: middle;\n",
       "    }\n",
       "\n",
       "    .dataframe tbody tr th {\n",
       "        vertical-align: top;\n",
       "    }\n",
       "\n",
       "    .dataframe thead th {\n",
       "        text-align: right;\n",
       "    }\n",
       "</style>\n",
       "<table border=\"1\" class=\"dataframe\">\n",
       "  <thead>\n",
       "    <tr style=\"text-align: right;\">\n",
       "      <th></th>\n",
       "      <th>HR</th>\n",
       "      <th>Resp</th>\n",
       "      <th>Comments</th>\n",
       "    </tr>\n",
       "    <tr>\n",
       "      <th>Date_Time</th>\n",
       "      <th></th>\n",
       "      <th></th>\n",
       "      <th></th>\n",
       "    </tr>\n",
       "  </thead>\n",
       "  <tbody>\n",
       "    <tr>\n",
       "      <th>2017-11-15 07:51:29.261200</th>\n",
       "      <td>157.1303</td>\n",
       "      <td>-0.176092</td>\n",
       "      <td>NaN</td>\n",
       "    </tr>\n",
       "    <tr>\n",
       "      <th>2017-11-15 07:51:29.761200</th>\n",
       "      <td>151.8875</td>\n",
       "      <td>1.480491</td>\n",
       "      <td>NaN</td>\n",
       "    </tr>\n",
       "    <tr>\n",
       "      <th>2017-11-15 07:51:30.261200</th>\n",
       "      <td>147.1784</td>\n",
       "      <td>1.515385</td>\n",
       "      <td>NaN</td>\n",
       "    </tr>\n",
       "    <tr>\n",
       "      <th>2017-11-15 07:51:30.761200</th>\n",
       "      <td>142.9485</td>\n",
       "      <td>0.550766</td>\n",
       "      <td>NaN</td>\n",
       "    </tr>\n",
       "    <tr>\n",
       "      <th>2017-11-15 07:51:31.261200</th>\n",
       "      <td>NaN</td>\n",
       "      <td>0.346830</td>\n",
       "      <td>NaN</td>\n",
       "    </tr>\n",
       "  </tbody>\n",
       "</table>\n",
       "</div>"
      ],
      "text/plain": [
       "                                  HR      Resp Comments\n",
       "Date_Time                                              \n",
       "2017-11-15 07:51:29.261200  157.1303 -0.176092      NaN\n",
       "2017-11-15 07:51:29.761200  151.8875  1.480491      NaN\n",
       "2017-11-15 07:51:30.261200  147.1784  1.515385      NaN\n",
       "2017-11-15 07:51:30.761200  142.9485  0.550766      NaN\n",
       "2017-11-15 07:51:31.261200       NaN  0.346830      NaN"
      ]
     },
     "execution_count": 33,
     "metadata": {},
     "output_type": "execute_result"
    }
   ],
   "source": [
    "#fix the format for output\n",
    "data = data.reindex(columns=[\"Time\",\"Date\",\"HR\",\"Resp\",\"Comments\"])\n",
    "#combine the date and time\n",
    "data['Date_Time'] = data['Date']+data['Time']\n",
    "del data['Date'], data['Time']\n",
    "\n",
    "#tranform the time into index\n",
    "data.index = data['Date_Time'] \n",
    "del data['Date_Time'] \n",
    "\n",
    "# check time intervals\n",
    "set_time_intervals = pd.Timedelta(\"0.5s\")\n",
    "actual_time_intervals = data.index[1] -data.index[0]\n",
    "if (set_time_intervals != actual_time_intervals):\n",
    "    print(\"The time intervals now is:\", actual_time_intervals, \". Please check the downsample parameter!!\")\n",
    "    \n",
    "data.tail()"
   ]
  },
  {
   "cell_type": "markdown",
   "metadata": {},
   "source": [
    "## check and handle missing values\n",
    "> * chech the sparsity of the data\n",
    "> * compute missing values with carry-forward method\n",
    "> * check the computation situation"
   ]
  },
  {
   "cell_type": "code",
   "execution_count": 34,
   "metadata": {
    "scrolled": true
   },
   "outputs": [
    {
     "name": "stdout",
     "output_type": "stream",
     "text": [
      "There are 168075 missings in total, and 1 for HR, 0 for Resp.\n"
     ]
    }
   ],
   "source": [
    "#Check the number of missing values\n",
    "missing_total=data.isnull().sum().sum()\n",
    "missing_HR=data[\"HR\"].isnull().sum()\n",
    "missing_Resp=data[\"Resp\"].isnull().sum()\n",
    "print(\"There are {} missings in total, and {} for HR, {} for Resp.\".format(missing_total, missing_HR, missing_Resp))\n",
    "if missing_HR > 10:\n",
    "    raise Exception('Missing values of HR should not exceed 10.')\n",
    "if missing_Resp > 10:\n",
    "    raise Exception('Missing values of Resp should not exceed 10.')"
   ]
  },
  {
   "cell_type": "code",
   "execution_count": 35,
   "metadata": {},
   "outputs": [
    {
     "name": "stdout",
     "output_type": "stream",
     "text": [
      "There are 168074 missings in total, and 0 for HR, 0 for Resp.\n"
     ]
    }
   ],
   "source": [
    "#compute missing values with carry forward method\n",
    "data[\"HR\"].fillna(method='ffill', inplace =True)\n",
    "data[\"Resp\"].fillna(method='ffill', inplace =True)\n",
    "\n",
    "#check the computation situation\n",
    "missing_total=data.isnull().sum().sum()\n",
    "missing_HR=data[\"HR\"].isnull().sum()\n",
    "missing_Resp=data[\"Resp\"].isnull().sum()\n",
    "print(\"There are {} missings in total, and {} for HR, {} for Resp.\".format(missing_total, missing_HR, missing_Resp))\n",
    "if missing_HR != 0:\n",
    "    raise Exception('Something wrong with missing values computing of HR.')\n",
    "if missing_Resp != 0:\n",
    "    raise Exception('Something wrong with missing values computing of Resp.')"
   ]
  },
  {
   "cell_type": "markdown",
   "metadata": {},
   "source": [
    "## quick exploration of data"
   ]
  },
  {
   "cell_type": "code",
   "execution_count": 36,
   "metadata": {
    "scrolled": false
   },
   "outputs": [
    {
     "data": {
      "text/plain": [
       "Date_Time\n",
       "2017-11-14 08:43:00.261200                  #* 600ng LPS \n",
       "2017-11-14 09:07:52.261200    #* finish giving 600ng lps \n",
       "Name: Comments, dtype: object"
      ]
     },
     "execution_count": 36,
     "metadata": {},
     "output_type": "execute_result"
    }
   ],
   "source": [
    "#check the comments for label\n",
    "data[\"Comments\"][data[\"Comments\"].isnull()==False]"
   ]
  },
  {
   "cell_type": "code",
   "execution_count": 37,
   "metadata": {},
   "outputs": [
    {
     "name": "stdout",
     "output_type": "stream",
     "text": [
      "The shape of data is:  (168076, 3)\n"
     ]
    },
    {
     "data": {
      "text/plain": [
       "Text(2017-11-14 08:43:00.261200, 0, 'comment time')"
      ]
     },
     "execution_count": 37,
     "metadata": {},
     "output_type": "execute_result"
    },
    {
     "data": {
      "image/png": "[encoded data removed]",
      "text/plain": [
       "<Figure size 432x288 with 1 Axes>"
      ]
     },
     "metadata": {},
     "output_type": "display_data"
    }
   ],
   "source": [
    "t0 = pd.to_datetime(\"2017-11-14 08:43:00.261200\") #starting time for sepsis\n",
    "\n",
    "#quick look at the data\n",
    "print(\"The shape of data is: \", data.shape)\n",
    "data[\"HR\"].resample(\"30T\").mean().plot(color=\"b\",alpha=1)\n",
    "(data[\"Resp\"]*100).resample(\"10S\").mean().plot(color=\"g\",alpha=0.5)\n",
    "plt.legend([\"Heart Rate\", \"Respiration Rate\"],\n",
    "          loc=\"upper center\")\n",
    "plt.axvline(t0, alpha=0.8, color =\"red\")\n",
    "plt.text(t0, 0,'comment time', color =\"red\",rotation=90)"
   ]
  },
  {
   "cell_type": "code",
   "execution_count": 38,
   "metadata": {},
   "outputs": [],
   "source": [
    "#Export the data\n",
    "new_path = os.path.dirname(os.path.dirname(data_file))+\"/\"+os.path.dirname(data_file)[-9:-3]+\"ts/\"+data_file[-18:-4]+\".csv\"\n",
    "export_csv = data.to_csv (new_path, header=True)"
   ]
  },
  {
   "cell_type": "code",
   "execution_count": null,
   "metadata": {},
   "outputs": [],
   "source": []
  }
 ],
 "metadata": {
  "kernelspec": {
   "display_name": "Python [conda env:p3]",
   "language": "python",
   "name": "conda-env-p3-py"
  },
  "language_info": {
   "codemirror_mode": {
    "name": "ipython",
    "version": 3
   },
   "file_extension": ".py",
   "mimetype": "text/x-python",
   "name": "python",
   "nbconvert_exporter": "python",
   "pygments_lexer": "ipython3",
   "version": "3.7.3"
  }
 },
 "nbformat": 4,
 "nbformat_minor": 2
}
