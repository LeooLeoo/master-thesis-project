{
 "cells": [
  {
   "cell_type": "markdown",
   "metadata": {},
   "source": [
    "# Data preparation\n",
    "This code is to prepare the data for data preprocessing. The data is first exported from software LabChart \".adicht\" file to \".txt\" file, and the separte file will be transformed into a time series \".csv\" file. After this, all the data from one object will be combined into a single time series \".csv\" file.\n",
    "\n",
    "Sample data is no.17273, date:10-11-2017 to 20-11-2017; \n",
    "## 1. export the raw data from LabChart\n",
    "> First the raw data is export from software LabChart into .txt file with:\n",
    "> * Necessary labels (comments from the software)\n",
    "> * Channel:TP-AmnP (Featal respiration rate without noise), FHR (Fetal heart rate, which is the cyclic measurement of artery blood pressure)\n",
    "> * Parameters: Output NaN for values, Time (always seconds), Date, Ignore regional options\n",
    "> * Downsample: to 0.5s/ponit (if 2k/s choose 1000, if 1k/s choose 500)"
   ]
  },
  {
   "cell_type": "markdown",
   "metadata": {},
   "source": [
    "## 2. transform .txt into pd.dataframe\n",
    "> After that, load the data into a pd.dataframe:\n",
    "> * load all libraries & specify the path to the data\n",
    "> * specify column names & transform the raw data into correct dtype"
   ]
  },
  {
   "cell_type": "code",
   "execution_count": 80,
   "metadata": {},
   "outputs": [],
   "source": [
    "#load libraries\n",
    "from datetime import datetime, timedelta\n",
    "from dateutil import parser\n",
    "import numpy as np\n",
    "import pandas as pd\n",
    "import matplotlib.pyplot as plt\n",
    "import seaborn; seaborn.set()\n",
    "import csv\n",
    "import os\n",
    "\n",
    "#specify the data dir\n",
    "data_file = '/Users/leeo/Desktop/KI2/7.master_thesis/1.data/17273_txt/17273_12-11-17.txt'"
   ]
  },
  {
   "cell_type": "code",
   "execution_count": 81,
   "metadata": {},
   "outputs": [
    {
     "name": "stdout",
     "output_type": "stream",
     "text": [
      "Please check the values and data type for each column! If anything wrong, please recheck the channels!(HR should be more than 100)\n",
      "Time        timedelta64[ns]\n",
      "Date         datetime64[ns]\n",
      "HR                  float64\n",
      "Resp                float64\n",
      "Comments            float64\n",
      "dtype: object\n"
     ]
    },
    {
     "data": {
      "text/html": [
       "<div>\n",
       "<style scoped>\n",
       "    .dataframe tbody tr th:only-of-type {\n",
       "        vertical-align: middle;\n",
       "    }\n",
       "\n",
       "    .dataframe tbody tr th {\n",
       "        vertical-align: top;\n",
       "    }\n",
       "\n",
       "    .dataframe thead th {\n",
       "        text-align: right;\n",
       "    }\n",
       "</style>\n",
       "<table border=\"1\" class=\"dataframe\">\n",
       "  <thead>\n",
       "    <tr style=\"text-align: right;\">\n",
       "      <th></th>\n",
       "      <th>Time</th>\n",
       "      <th>Date</th>\n",
       "      <th>HR</th>\n",
       "      <th>Resp</th>\n",
       "      <th>Comments</th>\n",
       "    </tr>\n",
       "  </thead>\n",
       "  <tbody>\n",
       "    <tr>\n",
       "      <th>0</th>\n",
       "      <td>14:46:55.121100</td>\n",
       "      <td>2017-11-12</td>\n",
       "      <td>145.1701</td>\n",
       "      <td>0.403788</td>\n",
       "      <td>NaN</td>\n",
       "    </tr>\n",
       "    <tr>\n",
       "      <th>1</th>\n",
       "      <td>14:46:55.621100</td>\n",
       "      <td>2017-11-12</td>\n",
       "      <td>146.3960</td>\n",
       "      <td>0.833938</td>\n",
       "      <td>NaN</td>\n",
       "    </tr>\n",
       "    <tr>\n",
       "      <th>2</th>\n",
       "      <td>14:46:56.121100</td>\n",
       "      <td>2017-11-12</td>\n",
       "      <td>148.1785</td>\n",
       "      <td>2.054920</td>\n",
       "      <td>NaN</td>\n",
       "    </tr>\n",
       "    <tr>\n",
       "      <th>3</th>\n",
       "      <td>14:46:56.621100</td>\n",
       "      <td>2017-11-12</td>\n",
       "      <td>148.5241</td>\n",
       "      <td>1.648533</td>\n",
       "      <td>NaN</td>\n",
       "    </tr>\n",
       "    <tr>\n",
       "      <th>4</th>\n",
       "      <td>14:46:57.121100</td>\n",
       "      <td>2017-11-12</td>\n",
       "      <td>148.0627</td>\n",
       "      <td>1.265892</td>\n",
       "      <td>NaN</td>\n",
       "    </tr>\n",
       "  </tbody>\n",
       "</table>\n",
       "</div>"
      ],
      "text/plain": [
       "             Time       Date        HR      Resp  Comments\n",
       "0 14:46:55.121100 2017-11-12  145.1701  0.403788       NaN\n",
       "1 14:46:55.621100 2017-11-12  146.3960  0.833938       NaN\n",
       "2 14:46:56.121100 2017-11-12  148.1785  2.054920       NaN\n",
       "3 14:46:56.621100 2017-11-12  148.5241  1.648533       NaN\n",
       "4 14:46:57.121100 2017-11-12  148.0627  1.265892       NaN"
      ]
     },
     "execution_count": 81,
     "metadata": {},
     "output_type": "execute_result"
    }
   ],
   "source": [
    "#load the data \n",
    "data = pd.read_csv(data_file, sep=\"\\t\", header=None, \n",
    "                   names=[\"Time\",\"Date\",\"HR\",\"Resp\",\"Comments\"])#cautious of each column\n",
    "#turn date and time into pd.timedelta and datetime\n",
    "data['Time'] = pd.to_timedelta(data['Time'], \"s\")\n",
    "data['Date'] = pd.to_datetime(data['Date'])\n",
    "print(\"Please check the values and data type for each column! If anything wrong, please recheck the channels!(HR should be more than 100)\")\n",
    "print(data.dtypes)\n",
    "data.head()"
   ]
  },
  {
   "cell_type": "markdown",
   "metadata": {},
   "source": [
    "## 3. transform the data into time series\n",
    "> * combine the date and time into Date_Time\n",
    "> * transform the data into time series\n",
    "> * check the time intervals of data"
   ]
  },
  {
   "cell_type": "code",
   "execution_count": 82,
   "metadata": {},
   "outputs": [
    {
     "data": {
      "text/html": [
       "<div>\n",
       "<style scoped>\n",
       "    .dataframe tbody tr th:only-of-type {\n",
       "        vertical-align: middle;\n",
       "    }\n",
       "\n",
       "    .dataframe tbody tr th {\n",
       "        vertical-align: top;\n",
       "    }\n",
       "\n",
       "    .dataframe thead th {\n",
       "        text-align: right;\n",
       "    }\n",
       "</style>\n",
       "<table border=\"1\" class=\"dataframe\">\n",
       "  <thead>\n",
       "    <tr style=\"text-align: right;\">\n",
       "      <th></th>\n",
       "      <th>HR</th>\n",
       "      <th>Resp</th>\n",
       "      <th>Comments</th>\n",
       "    </tr>\n",
       "    <tr>\n",
       "      <th>Date_Time</th>\n",
       "      <th></th>\n",
       "      <th></th>\n",
       "      <th></th>\n",
       "    </tr>\n",
       "  </thead>\n",
       "  <tbody>\n",
       "    <tr>\n",
       "      <th>2017-11-13 10:19:23.121100</th>\n",
       "      <td>162.4292</td>\n",
       "      <td>3.154878</td>\n",
       "      <td>NaN</td>\n",
       "    </tr>\n",
       "    <tr>\n",
       "      <th>2017-11-13 10:19:23.621100</th>\n",
       "      <td>168.8280</td>\n",
       "      <td>5.427113</td>\n",
       "      <td>NaN</td>\n",
       "    </tr>\n",
       "    <tr>\n",
       "      <th>2017-11-13 10:19:24.121100</th>\n",
       "      <td>164.9334</td>\n",
       "      <td>5.253589</td>\n",
       "      <td>NaN</td>\n",
       "    </tr>\n",
       "    <tr>\n",
       "      <th>2017-11-13 10:19:24.621100</th>\n",
       "      <td>166.7716</td>\n",
       "      <td>5.016145</td>\n",
       "      <td>NaN</td>\n",
       "    </tr>\n",
       "    <tr>\n",
       "      <th>2017-11-13 10:19:25.121100</th>\n",
       "      <td>165.1504</td>\n",
       "      <td>4.386994</td>\n",
       "      <td>NaN</td>\n",
       "    </tr>\n",
       "  </tbody>\n",
       "</table>\n",
       "</div>"
      ],
      "text/plain": [
       "                                  HR      Resp  Comments\n",
       "Date_Time                                               \n",
       "2017-11-13 10:19:23.121100  162.4292  3.154878       NaN\n",
       "2017-11-13 10:19:23.621100  168.8280  5.427113       NaN\n",
       "2017-11-13 10:19:24.121100  164.9334  5.253589       NaN\n",
       "2017-11-13 10:19:24.621100  166.7716  5.016145       NaN\n",
       "2017-11-13 10:19:25.121100  165.1504  4.386994       NaN"
      ]
     },
     "execution_count": 82,
     "metadata": {},
     "output_type": "execute_result"
    }
   ],
   "source": [
    "#fix the format for output\n",
    "data = data.reindex(columns=[\"Time\",\"Date\",\"HR\",\"Resp\",\"Comments\"])\n",
    "#combine the date and time\n",
    "data['Date_Time'] = data['Date']+data['Time']\n",
    "del data['Date'], data['Time']\n",
    "\n",
    "#tranform the time into index\n",
    "data.index = data['Date_Time'] \n",
    "del data['Date_Time'] \n",
    "\n",
    "# check time intervals\n",
    "set_time_intervals = pd.Timedelta(\"0.5s\")\n",
    "actual_time_intervals = data.index[1] -data.index[0]\n",
    "if (set_time_intervals != actual_time_intervals):\n",
    "    print(\"The time intervals now is:\", actual_time_intervals, \". Please check the downsample parameter!!\")\n",
    "    \n",
    "data.tail()"
   ]
  },
  {
   "cell_type": "markdown",
   "metadata": {},
   "source": [
    "## 4. check and handle missing values\n",
    "> * chech the sparsity of the data\n",
    "> * compute missing values with carry-forward (backforward if needed) method\n",
    "> * check the computation situation"
   ]
  },
  {
   "cell_type": "code",
   "execution_count": 83,
   "metadata": {
    "scrolled": true
   },
   "outputs": [
    {
     "name": "stdout",
     "output_type": "stream",
     "text": [
      "There are 140701 missings in total, and 0 for HR, 0 for Resp.\n"
     ]
    }
   ],
   "source": [
    "#Check the number of missing values\n",
    "missing_total=data.isnull().sum().sum()\n",
    "missing_HR=data[\"HR\"].isnull().sum()\n",
    "missing_Resp=data[\"Resp\"].isnull().sum()\n",
    "print(\"There are {} missings in total, and {} for HR, {} for Resp.\".format(missing_total, missing_HR, missing_Resp))\n",
    "if missing_HR > 20:\n",
    "    raise Exception('Missing values of HR should not exceed 20.')\n",
    "if missing_Resp > 20:\n",
    "    raise Exception('Missing values of Resp should not exceed 20.')"
   ]
  },
  {
   "cell_type": "code",
   "execution_count": 84,
   "metadata": {},
   "outputs": [
    {
     "name": "stdout",
     "output_type": "stream",
     "text": [
      "There are 140701 missings in total, and 0 for HR, 0 for Resp.\n"
     ]
    }
   ],
   "source": [
    "#compute missing values with carry forward method\n",
    "data[\"HR\"].fillna(method='ffill', inplace =True)\n",
    "data[\"Resp\"].fillna(method='ffill', inplace =True)\n",
    "data[\"HR\"].fillna(method='bfill', inplace =True)\n",
    "data[\"Resp\"].fillna(method='bfill', inplace =True)\n",
    "#check the computation situation\n",
    "missing_total=data.isnull().sum().sum()\n",
    "missing_HR=data[\"HR\"].isnull().sum()\n",
    "missing_Resp=data[\"Resp\"].isnull().sum()\n",
    "print(\"There are {} missings in total, and {} for HR, {} for Resp.\".format(missing_total, missing_HR, missing_Resp))\n",
    "if missing_HR != 0:\n",
    "    raise Exception('Something wrong with missing values computing of HR.')\n",
    "if missing_Resp != 0:\n",
    "    raise Exception('Something wrong with missing values computing of Resp.')"
   ]
  },
  {
   "cell_type": "markdown",
   "metadata": {},
   "source": [
    "## 5. quick exploration of data"
   ]
  },
  {
   "cell_type": "code",
   "execution_count": 85,
   "metadata": {
    "scrolled": false
   },
   "outputs": [
    {
     "data": {
      "text/plain": [
       "Series([], Name: Comments, dtype: float64)"
      ]
     },
     "execution_count": 85,
     "metadata": {},
     "output_type": "execute_result"
    }
   ],
   "source": [
    "#check the comments for label\n",
    "data[\"Comments\"][data[\"Comments\"].isnull()==False]"
   ]
  },
  {
   "cell_type": "code",
   "execution_count": 86,
   "metadata": {},
   "outputs": [
    {
     "name": "stdout",
     "output_type": "stream",
     "text": [
      "The shape of data is:  (140701, 3)\n"
     ]
    },
    {
     "data": {
      "text/plain": [
       "Text(2017-11-12 10:24:03.020700, 0, 'comment time')"
      ]
     },
     "execution_count": 86,
     "metadata": {},
     "output_type": "execute_result"
    },
    {
     "data": {
      "image/png": "[encoded data removed]",
      "text/plain": [
       "<Figure size 432x288 with 1 Axes>"
      ]
     },
     "metadata": {},
     "output_type": "display_data"
    }
   ],
   "source": [
    "t0 = pd.to_datetime(\"2017-11-12 10:24:03.020700\") #starting time for sepsis\n",
    "\n",
    "#quick look at the data\n",
    "print(\"The shape of data is: \", data.shape)\n",
    "data[\"HR\"].resample(\"30T\").mean().plot(color=\"b\",alpha=1)\n",
    "(data[\"Resp\"]*100).resample(\"10S\").mean().plot(color=\"g\",alpha=0.5)\n",
    "plt.legend([\"Heart Rate\", \"Respiration Rate\"],\n",
    "          loc=\"upper center\")\n",
    "plt.axvline(t0, alpha=0.8, color =\"red\")\n",
    "plt.text(t0, 0,'comment time', color =\"red\",rotation=90)"
   ]
  },
  {
   "cell_type": "code",
   "execution_count": 87,
   "metadata": {},
   "outputs": [],
   "source": [
    "#Export the data\n",
    "new_path = os.path.dirname(os.path.dirname(data_file))+\"/\"+os.path.dirname(data_file)[-9:-3]+\"ts/\"+data_file[-18:-4]+\".csv\"\n",
    "export_csv = data.to_csv (new_path, header=True)"
   ]
  },
  {
   "cell_type": "code",
   "execution_count": 55,
   "metadata": {},
   "outputs": [],
   "source": [
    "#slice the data if needed\n",
    "#data[\"Comments\"][data[\"Comments\"].isnull()==False]\n",
    "#data = data.loc[:\"2017/11/20 9:58:35.4395\"]"
   ]
  },
  {
   "cell_type": "markdown",
   "metadata": {},
   "source": [
    "## 6. combine all data files of one object\n",
    "After all single time series from the same object have been transformed, execute this block to combine them into one single file."
   ]
  },
  {
   "cell_type": "code",
   "execution_count": 139,
   "metadata": {},
   "outputs": [],
   "source": [
    "from os import listdir\n",
    "from os.path import isfile, join\n",
    "ts_dir = '/Users/leeo/Desktop/KI2/7.master_thesis/1.data/17273_ts'\n",
    "\n",
    "combined_data = []\n",
    "for f in listdir(ts_dir):\n",
    "    file_path = ts_dir+\"/\"+f\n",
    "    data = pd.read_csv(file_path, sep=\",\", header=0,\n",
    "                   parse_dates=[0], index_col=0)\n",
    "    # store DataFrame in list\n",
    "    combined_data.append(data)\n",
    "#concat all data in one\n",
    "combined_data = pd.concat(combined_data).sort_index()"
   ]
  },
  {
   "cell_type": "code",
   "execution_count": 140,
   "metadata": {},
   "outputs": [
    {
     "data": {
      "text/plain": [
       "Date_Time\n",
       "2017-11-11 10:24:03.020700                                          #* Comment \n",
       "2017-11-13 10:40:53.355800                        #* LPS 300ng IV Jugular Vein \n",
       "2017-11-13 10:41:21.355800    #* Rob is looking very cute today in a tight s...\n",
       "2017-11-13 12:17:16.855800                                                 #*  \n",
       "2017-11-13 15:50:10.855800                                                 #*  \n",
       "2017-11-14 08:43:00.261200                                        #* 600ng LPS \n",
       "2017-11-14 09:07:52.261200                          #* finish giving 600ng lps \n",
       "2017-11-15 08:19:43.826900                   #2 1.2ug LPS dose given at 8:00am \n",
       "2017-11-20 07:27:32.439200    #* blood gas + lps in next 10 mins (300ng/2mL ...\n",
       "2017-11-20 07:49:36.939200              #* finish giving lps to 17-257 (300ng) \n",
       "Name: Comments, dtype: object"
      ]
     },
     "execution_count": 140,
     "metadata": {},
     "output_type": "execute_result"
    }
   ],
   "source": [
    "#check the comments for label\n",
    "combined_data[\"Comments\"][combined_data[\"Comments\"].isnull()==False]"
   ]
  },
  {
   "cell_type": "code",
   "execution_count": 170,
   "metadata": {},
   "outputs": [
    {
     "name": "stdout",
     "output_type": "stream",
     "text": [
      "The shape of data is:  (1289630, 3)\n"
     ]
    },
    {
     "data": {
      "text/plain": [
       "Text(2017-11-15 08:19:43.826900, -1000, '3rd injection')"
      ]
     },
     "execution_count": 170,
     "metadata": {},
     "output_type": "execute_result"
    },
    {
     "data": {
      "image/png": "[encoded data removed]",
      "text/plain": [
       "<Figure size 432x288 with 1 Axes>"
      ]
     },
     "metadata": {},
     "output_type": "display_data"
    }
   ],
   "source": [
    "t1 = pd.to_datetime(\"2017-11-13 10:40:53.355800\") \n",
    "t2 = pd.to_datetime(\"2017-11-14 08:43:00.261200\") \n",
    "t3 = pd.to_datetime(\"2017-11-15 08:19:43.826900\") \n",
    "\n",
    "#quick look at the data\n",
    "print(\"The shape of data is: \", combined_data.shape)\n",
    "combined_data[\"HR\"].resample(\"10T\").mean().plot(color=\"b\",alpha=1)\n",
    "(combined_data[\"Resp\"]*100).resample(\"10T\").mean().plot(color=\"g\",alpha=0.5)\n",
    "plt.legend([\"Heart Rate\", \"Respiration Rate\"],\n",
    "          loc=\"upper left\")\n",
    "plt.axvline(t1, alpha=0.8, color =\"red\")\n",
    "plt.text(t1,-1000,'1st injection', color =\"red\",rotation=90)\n",
    "plt.axvline(t2, alpha=0.8, color =\"red\")\n",
    "plt.text(t2,-1000,'2nd injection', color =\"red\",rotation=90)\n",
    "plt.axvline(t3, alpha=0.8, color =\"red\")\n",
    "plt.text(t3,-1000,'3rd injection', color =\"red\",rotation=90)"
   ]
  },
  {
   "cell_type": "code",
   "execution_count": 152,
   "metadata": {},
   "outputs": [],
   "source": [
    "#Export the data\n",
    "object_path = ts_dir[:-8]+\"2.object_data_combined/\"+ts_dir[-8:-3]+\".csv\"\n",
    "export_csv = combined_data.to_csv(object_path, header=True)"
   ]
  },
  {
   "cell_type": "code",
   "execution_count": null,
   "metadata": {},
   "outputs": [],
   "source": []
  }
 ],
 "metadata": {
  "kernelspec": {
   "display_name": "Python [conda env:p3]",
   "language": "python",
   "name": "conda-env-p3-py"
  },
  "language_info": {
   "codemirror_mode": {
    "name": "ipython",
    "version": 3
   },
   "file_extension": ".py",
   "mimetype": "text/x-python",
   "name": "python",
   "nbconvert_exporter": "python",
   "pygments_lexer": "ipython3",
   "version": "3.7.3"
  }
 },
 "nbformat": 4,
 "nbformat_minor": 2
}
