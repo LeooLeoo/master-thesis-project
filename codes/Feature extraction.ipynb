{
 "cells": [
  {
   "cell_type": "markdown",
   "metadata": {},
   "source": [
    "# Feature extraction\n",
    "At this stage, the raw data should be transform into a standard time series format. This codes is to first transform the data into a \"cesium\" format, and then extract the feature from it."
   ]
  },
  {
   "cell_type": "code",
   "execution_count": 1,
   "metadata": {},
   "outputs": [
    {
     "name": "stderr",
     "output_type": "stream",
     "text": [
      "/anaconda3/envs/p3/lib/python3.7/site-packages/dask/config.py:168: YAMLLoadWarning: calling yaml.load() without Loader=... is deprecated, as the default Loader is unsafe. Please read https://msg.pyyaml.org/load for full details.\n",
      "  data = yaml.load(f.read()) or {}\n"
     ]
    }
   ],
   "source": [
    "#load libraries\n",
    "from datetime import datetime, timedelta\n",
    "from dateutil import parser\n",
    "import numpy as np\n",
    "import pandas as pd\n",
    "import matplotlib.pyplot as plt\n",
    "import csv\n",
    "from cesium import featurize\n",
    "\n",
    "#specify the data dir\n",
    "data_file = '/Users/leeo/Downloads/17273_13-11-17_ts.csv'"
   ]
  },
  {
   "cell_type": "code",
   "execution_count": 2,
   "metadata": {},
   "outputs": [
    {
     "name": "stderr",
     "output_type": "stream",
     "text": [
      "/anaconda3/envs/p3/lib/python3.7/site-packages/IPython/core/interactiveshell.py:3049: DtypeWarning: Columns (3) have mixed types. Specify dtype option on import or set low_memory=False.\n",
      "  interactivity=interactivity, compiler=compiler, result=result)\n"
     ]
    },
    {
     "data": {
      "text/html": [
       "<div>\n",
       "<style scoped>\n",
       "    .dataframe tbody tr th:only-of-type {\n",
       "        vertical-align: middle;\n",
       "    }\n",
       "\n",
       "    .dataframe tbody tr th {\n",
       "        vertical-align: top;\n",
       "    }\n",
       "\n",
       "    .dataframe thead th {\n",
       "        text-align: right;\n",
       "    }\n",
       "</style>\n",
       "<table border=\"1\" class=\"dataframe\">\n",
       "  <thead>\n",
       "    <tr style=\"text-align: right;\">\n",
       "      <th></th>\n",
       "      <th>HR</th>\n",
       "      <th>Resp</th>\n",
       "      <th>Comments</th>\n",
       "    </tr>\n",
       "    <tr>\n",
       "      <th>Date_Time</th>\n",
       "      <th></th>\n",
       "      <th></th>\n",
       "      <th></th>\n",
       "    </tr>\n",
       "  </thead>\n",
       "  <tbody>\n",
       "    <tr>\n",
       "      <th>2017-11-13 10:21:49.355800</th>\n",
       "      <td>162.6400</td>\n",
       "      <td>2.420671</td>\n",
       "      <td>NaN</td>\n",
       "    </tr>\n",
       "    <tr>\n",
       "      <th>2017-11-13 10:21:49.855800</th>\n",
       "      <td>167.7724</td>\n",
       "      <td>1.473044</td>\n",
       "      <td>NaN</td>\n",
       "    </tr>\n",
       "    <tr>\n",
       "      <th>2017-11-13 10:21:50.355800</th>\n",
       "      <td>167.3049</td>\n",
       "      <td>0.916979</td>\n",
       "      <td>NaN</td>\n",
       "    </tr>\n",
       "    <tr>\n",
       "      <th>2017-11-13 10:21:50.855800</th>\n",
       "      <td>164.9741</td>\n",
       "      <td>2.693337</td>\n",
       "      <td>NaN</td>\n",
       "    </tr>\n",
       "    <tr>\n",
       "      <th>2017-11-13 10:21:51.355800</th>\n",
       "      <td>170.3801</td>\n",
       "      <td>4.941797</td>\n",
       "      <td>NaN</td>\n",
       "    </tr>\n",
       "  </tbody>\n",
       "</table>\n",
       "</div>"
      ],
      "text/plain": [
       "                                  HR      Resp Comments\n",
       "Date_Time                                              \n",
       "2017-11-13 10:21:49.355800  162.6400  2.420671      NaN\n",
       "2017-11-13 10:21:49.855800  167.7724  1.473044      NaN\n",
       "2017-11-13 10:21:50.355800  167.3049  0.916979      NaN\n",
       "2017-11-13 10:21:50.855800  164.9741  2.693337      NaN\n",
       "2017-11-13 10:21:51.355800  170.3801  4.941797      NaN"
      ]
     },
     "execution_count": 2,
     "metadata": {},
     "output_type": "execute_result"
    }
   ],
   "source": [
    "data = pd.read_csv(data_file, header=0, index_col=0)\n",
    "data.index = pd.to_datetime(data.index)\n",
    "data.head()"
   ]
  },
  {
   "cell_type": "markdown",
   "metadata": {},
   "source": [
    "## Data slice - attempt 1"
   ]
  },
  {
   "cell_type": "code",
   "execution_count": 7,
   "metadata": {},
   "outputs": [
    {
     "name": "stdout",
     "output_type": "stream",
     "text": [
      "<class 'list'>\n",
      "<class 'numpy.ndarray'>\n",
      "<class 'numpy.ndarray'>\n",
      "<class 'numpy.float64'>\n",
      "(2, 159111)\n"
     ]
    }
   ],
   "source": [
    "#tranform the datetimeindex into array\n",
    "time_array = np.array(data.index.to_pydatetime(), dtype=np.datetime64)\n",
    "#transform into a list of list of ndarrary\n",
    "\n",
    "cesium_times = [np.array([time_array.astype(\"float\"),time_array.astype(\"float\")])]\n",
    "\n",
    "#check the time format\n",
    "print(type(cesium_times))#list\n",
    "print(type(cesium_times[0])) #(2, 159112) np.array\n",
    "print(type(cesium_times[0][0]))\n",
    "print(type(cesium_times[0][0][0]))\n",
    "print(cesium_times[0].shape)"
   ]
  },
  {
   "cell_type": "code",
   "execution_count": 9,
   "metadata": {},
   "outputs": [
    {
     "name": "stdout",
     "output_type": "stream",
     "text": [
      "<class 'numpy.ndarray'>\n",
      "<class 'list'>\n",
      "<class 'numpy.ndarray'>\n",
      "<class 'numpy.ndarray'>\n",
      "<class 'numpy.float64'>\n",
      "(2, 159111)\n"
     ]
    }
   ],
   "source": [
    "#tranform the measurement values into cesium format\n",
    "cesium_values =[np.array([data[\"HR\"].to_numpy(),data[\"Resp\"].to_numpy()])]\n",
    "print(type(cesium_values[0]))\n",
    "\n",
    "print(type(cesium_values))#list\n",
    "print(type(cesium_values[0])) #array\n",
    "print(type(cesium_values[0][0]))\n",
    "print(type(cesium_values[0][0][0]))\n",
    "print(cesium_values[0].shape)"
   ]
  },
  {
   "cell_type": "code",
   "execution_count": 10,
   "metadata": {},
   "outputs": [
    {
     "data": {
      "text/html": [
       "<div>\n",
       "<style scoped>\n",
       "    .dataframe tbody tr th:only-of-type {\n",
       "        vertical-align: middle;\n",
       "    }\n",
       "\n",
       "    .dataframe tbody tr th {\n",
       "        vertical-align: top;\n",
       "    }\n",
       "\n",
       "    .dataframe thead tr th {\n",
       "        text-align: left;\n",
       "    }\n",
       "</style>\n",
       "<table border=\"1\" class=\"dataframe\">\n",
       "  <thead>\n",
       "    <tr>\n",
       "      <th>feature</th>\n",
       "      <th colspan=\"2\" halign=\"left\">amplitude</th>\n",
       "      <th colspan=\"2\" halign=\"left\">percent_beyond_1_std</th>\n",
       "      <th colspan=\"2\" halign=\"left\">maximum</th>\n",
       "      <th colspan=\"2\" halign=\"left\">max_slope</th>\n",
       "      <th colspan=\"2\" halign=\"left\">median</th>\n",
       "      <th>...</th>\n",
       "      <th colspan=\"2\" halign=\"left\">percent_close_to_median</th>\n",
       "      <th colspan=\"2\" halign=\"left\">minimum</th>\n",
       "      <th colspan=\"2\" halign=\"left\">skew</th>\n",
       "      <th colspan=\"2\" halign=\"left\">std</th>\n",
       "      <th colspan=\"2\" halign=\"left\">weighted_average</th>\n",
       "    </tr>\n",
       "    <tr>\n",
       "      <th>channel</th>\n",
       "      <th>0</th>\n",
       "      <th>1</th>\n",
       "      <th>0</th>\n",
       "      <th>1</th>\n",
       "      <th>0</th>\n",
       "      <th>1</th>\n",
       "      <th>0</th>\n",
       "      <th>1</th>\n",
       "      <th>0</th>\n",
       "      <th>1</th>\n",
       "      <th>...</th>\n",
       "      <th>0</th>\n",
       "      <th>1</th>\n",
       "      <th>0</th>\n",
       "      <th>1</th>\n",
       "      <th>0</th>\n",
       "      <th>1</th>\n",
       "      <th>0</th>\n",
       "      <th>1</th>\n",
       "      <th>0</th>\n",
       "      <th>1</th>\n",
       "    </tr>\n",
       "  </thead>\n",
       "  <tbody>\n",
       "    <tr>\n",
       "      <th>0</th>\n",
       "      <td>7680.97217</td>\n",
       "      <td>21.236365</td>\n",
       "      <td>0.00291</td>\n",
       "      <td>0.261541</td>\n",
       "      <td>15371.98</td>\n",
       "      <td>17.52629</td>\n",
       "      <td>0.026259</td>\n",
       "      <td>0.000054</td>\n",
       "      <td>177.5802</td>\n",
       "      <td>2.831188</td>\n",
       "      <td>...</td>\n",
       "      <td>0.997593</td>\n",
       "      <td>0.983955</td>\n",
       "      <td>10.03566</td>\n",
       "      <td>-24.94644</td>\n",
       "      <td>24.569635</td>\n",
       "      <td>-0.119295</td>\n",
       "      <td>355.818913</td>\n",
       "      <td>1.560819</td>\n",
       "      <td>196.083506</td>\n",
       "      <td>2.765618</td>\n",
       "    </tr>\n",
       "  </tbody>\n",
       "</table>\n",
       "<p>1 rows × 22 columns</p>\n",
       "</div>"
      ],
      "text/plain": [
       "feature   amplitude            percent_beyond_1_std             maximum  \\\n",
       "channel           0          1                    0         1         0   \n",
       "0        7680.97217  21.236365              0.00291  0.261541  15371.98   \n",
       "\n",
       "feature           max_slope              median            ...  \\\n",
       "channel         1         0         1         0         1  ...   \n",
       "0        17.52629  0.026259  0.000054  177.5802  2.831188  ...   \n",
       "\n",
       "feature percent_close_to_median             minimum                 skew  \\\n",
       "channel                       0         1         0         1          0   \n",
       "0                      0.997593  0.983955  10.03566 -24.94644  24.569635   \n",
       "\n",
       "feature                   std           weighted_average            \n",
       "channel         1           0         1                0         1  \n",
       "0       -0.119295  355.818913  1.560819       196.083506  2.765618  \n",
       "\n",
       "[1 rows x 22 columns]"
      ]
     },
     "execution_count": 10,
     "metadata": {},
     "output_type": "execute_result"
    }
   ],
   "source": [
    "#set the feature wants to extract\n",
    "features_to_use = [\"amplitude\",\n",
    "                   \"percent_beyond_1_std\",\n",
    "                   \"maximum\",\n",
    "                   \"max_slope\",\n",
    "                   \"median\",\n",
    "                   \"median_absolute_deviation\",\n",
    "                   \"percent_close_to_median\",\n",
    "                   \"minimum\",\n",
    "                   \"skew\",\n",
    "                   \"std\",\n",
    "                   \"weighted_average\"]\n",
    "\n",
    "fset_cesium = featurize.featurize_time_series(times = cesium_times,\n",
    "                                              values = cesium_values,\n",
    "                                              features_to_use=features_to_use)\n",
    "fset_cesium.head()"
   ]
  },
  {
   "cell_type": "code",
   "execution_count": 15,
   "metadata": {},
   "outputs": [
    {
     "data": {
      "text/plain": [
       "numpy.datetime64('2017-11-13T10:21:49.355800')"
      ]
     },
     "execution_count": 15,
     "metadata": {},
     "output_type": "execute_result"
    }
   ],
   "source": [
    "time_array = np.array(data.index.to_pydatetime(), dtype=np.datetime64)\n",
    "time_array[0]"
   ]
  },
  {
   "cell_type": "code",
   "execution_count": 13,
   "metadata": {},
   "outputs": [
    {
     "data": {
      "text/plain": [
       "79555.5"
      ]
     },
     "execution_count": 13,
     "metadata": {},
     "output_type": "execute_result"
    }
   ],
   "source": [
    "#slice into n folds\n",
    "n=2\n",
    "len(time_array)/n"
   ]
  },
  {
   "cell_type": "code",
   "execution_count": 18,
   "metadata": {},
   "outputs": [
    {
     "name": "stdout",
     "output_type": "stream",
     "text": [
      "<class 'list'>\n",
      "<class 'numpy.ndarray'>\n",
      "<class 'numpy.ndarray'>\n",
      "<class 'numpy.float64'>\n",
      "(2, 159111)\n"
     ]
    }
   ],
   "source": [
    "#tranform the datetimeindex into array\n",
    "time_array = np.array(data.index.to_pydatetime(), dtype=np.datetime64)\n",
    "#transform into a list of list of ndarrary\n",
    "\n",
    "cesium_times = [np.array([time_array.astype(\"float\"),time_array.astype(\"float\")])]\n",
    "\n",
    "#check the time format\n",
    "print(type(cesium_times))#list\n",
    "print(type(cesium_times[0])) #(2, 159112) np.array\n",
    "print(type(cesium_times[0][0]))\n",
    "print(type(cesium_times[0][0][0]))\n",
    "print(cesium_times[0].shape)"
   ]
  },
  {
   "cell_type": "code",
   "execution_count": null,
   "metadata": {},
   "outputs": [],
   "source": []
  }
 ],
 "metadata": {
  "kernelspec": {
   "display_name": "Python [conda env:p3]",
   "language": "python",
   "name": "conda-env-p3-py"
  },
  "language_info": {
   "codemirror_mode": {
    "name": "ipython",
    "version": 3
   },
   "file_extension": ".py",
   "mimetype": "text/x-python",
   "name": "python",
   "nbconvert_exporter": "python",
   "pygments_lexer": "ipython3",
   "version": "3.7.3"
  }
 },
 "nbformat": 4,
 "nbformat_minor": 2
}
