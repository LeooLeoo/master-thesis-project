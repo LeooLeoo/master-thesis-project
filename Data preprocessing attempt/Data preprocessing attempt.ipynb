{
 "cells": [
  {
   "cell_type": "markdown",
   "metadata": {},
   "source": [
    "# Data preprocessing attempt\n",
    "This code is to try to prepare a qualified format of output for Cesium liabray, to extract features from time series.\n",
    "\n",
    "The data used is no.17273, date:13-11-2017; Channel:TP-AmnP (TP-AP 273), FHR(Heart Rate A); Downsample: 1000(0.5s/ponit);\n",
    "\n",
    "## export the raw data\n",
    "> First the raw data is export from software LabChart into .txt file with:\n",
    "> * necessary labels (comments from the software)\n",
    "> * Channel:TP-AmnP (TP-AP 273), FHR (Heart Rate A)\n",
    "> * Output NaN for values, Time (always seconds), Date, Ignore regional options\n",
    "> * Downsample: 500 (0.5s/ponit)\n",
    "\n",
    "> Then convert the .txt file into .csv file with software Excel"
   ]
  },
  {
   "cell_type": "markdown",
   "metadata": {},
   "source": [
    "## transform into pd.dataframe\n",
    "> After that, load the data and add column names:\n",
    "> * load all libraries\n",
    "> * specify the path to the data\n",
    "> * add column names and transform the raw data into correct dtype"
   ]
  },
  {
   "cell_type": "code",
   "execution_count": 1,
   "metadata": {},
   "outputs": [],
   "source": [
    "#load libraries\n",
    "from datetime import datetime, timedelta\n",
    "from dateutil import parser\n",
    "import numpy as np\n",
    "import pandas as pd\n",
    "import matplotlib.pyplot as plt\n",
    "import csv\n",
    "\n",
    "#specify the data dir\n",
    "data_file = '/Users/leeo/Downloads/17273_13-11-17.csv'"
   ]
  },
  {
   "cell_type": "code",
   "execution_count": 2,
   "metadata": {},
   "outputs": [
    {
     "name": "stderr",
     "output_type": "stream",
     "text": [
      "/anaconda3/envs/p3/lib/python3.7/site-packages/IPython/core/interactiveshell.py:3049: DtypeWarning: Columns (4) have mixed types. Specify dtype option on import or set low_memory=False.\n",
      "  interactivity=interactivity, compiler=compiler, result=result)\n"
     ]
    },
    {
     "name": "stdout",
     "output_type": "stream",
     "text": [
      "Please check the values for each column! If anything wrong, please recheck the channels!\n"
     ]
    },
    {
     "data": {
      "text/html": [
       "<div>\n",
       "<style scoped>\n",
       "    .dataframe tbody tr th:only-of-type {\n",
       "        vertical-align: middle;\n",
       "    }\n",
       "\n",
       "    .dataframe tbody tr th {\n",
       "        vertical-align: top;\n",
       "    }\n",
       "\n",
       "    .dataframe thead th {\n",
       "        text-align: right;\n",
       "    }\n",
       "</style>\n",
       "<table border=\"1\" class=\"dataframe\">\n",
       "  <thead>\n",
       "    <tr style=\"text-align: right;\">\n",
       "      <th></th>\n",
       "      <th>Time</th>\n",
       "      <th>Date</th>\n",
       "      <th>HR</th>\n",
       "      <th>Resp</th>\n",
       "      <th>Comments</th>\n",
       "    </tr>\n",
       "  </thead>\n",
       "  <tbody>\n",
       "    <tr>\n",
       "      <th>0</th>\n",
       "      <td>10:21:49.355800</td>\n",
       "      <td>2017-11-13</td>\n",
       "      <td>162.6400</td>\n",
       "      <td>2.420671</td>\n",
       "      <td>NaN</td>\n",
       "    </tr>\n",
       "    <tr>\n",
       "      <th>1</th>\n",
       "      <td>10:21:49.855800</td>\n",
       "      <td>2017-11-13</td>\n",
       "      <td>167.7724</td>\n",
       "      <td>1.473044</td>\n",
       "      <td>NaN</td>\n",
       "    </tr>\n",
       "    <tr>\n",
       "      <th>2</th>\n",
       "      <td>10:21:50.355800</td>\n",
       "      <td>2017-11-13</td>\n",
       "      <td>167.3049</td>\n",
       "      <td>0.916979</td>\n",
       "      <td>NaN</td>\n",
       "    </tr>\n",
       "    <tr>\n",
       "      <th>3</th>\n",
       "      <td>10:21:50.855800</td>\n",
       "      <td>2017-11-13</td>\n",
       "      <td>164.9741</td>\n",
       "      <td>2.693337</td>\n",
       "      <td>NaN</td>\n",
       "    </tr>\n",
       "    <tr>\n",
       "      <th>4</th>\n",
       "      <td>10:21:51.355800</td>\n",
       "      <td>2017-11-13</td>\n",
       "      <td>170.3801</td>\n",
       "      <td>4.941797</td>\n",
       "      <td>NaN</td>\n",
       "    </tr>\n",
       "  </tbody>\n",
       "</table>\n",
       "</div>"
      ],
      "text/plain": [
       "             Time       Date        HR      Resp Comments\n",
       "0 10:21:49.355800 2017-11-13  162.6400  2.420671      NaN\n",
       "1 10:21:49.855800 2017-11-13  167.7724  1.473044      NaN\n",
       "2 10:21:50.355800 2017-11-13  167.3049  0.916979      NaN\n",
       "3 10:21:50.855800 2017-11-13  164.9741  2.693337      NaN\n",
       "4 10:21:51.355800 2017-11-13  170.3801  4.941797      NaN"
      ]
     },
     "execution_count": 2,
     "metadata": {},
     "output_type": "execute_result"
    }
   ],
   "source": [
    "#load the data\n",
    "data = pd.DataFrame(pd.read_csv(data_file, header=0))\n",
    "data.columns = [\"Time\",\"Date\",\"HR\",\"Resp\",\"Comments\"]\n",
    "data['Time'] = pd.to_timedelta(data['Time'], \"s\")\n",
    "data['Date'] = pd.to_datetime(data['Date'])\n",
    "print(\"Please check the values for each column! If anything wrong, please recheck the channels!\")\n",
    "data.head()"
   ]
  },
  {
   "cell_type": "markdown",
   "metadata": {},
   "source": [
    "## transform the data into time series\n",
    "> * combine the date and time into Date_Time\n",
    "> * transform the data into time series\n",
    "> * check the time intervals of data"
   ]
  },
  {
   "cell_type": "code",
   "execution_count": 3,
   "metadata": {},
   "outputs": [
    {
     "data": {
      "text/html": [
       "<div>\n",
       "<style scoped>\n",
       "    .dataframe tbody tr th:only-of-type {\n",
       "        vertical-align: middle;\n",
       "    }\n",
       "\n",
       "    .dataframe tbody tr th {\n",
       "        vertical-align: top;\n",
       "    }\n",
       "\n",
       "    .dataframe thead th {\n",
       "        text-align: right;\n",
       "    }\n",
       "</style>\n",
       "<table border=\"1\" class=\"dataframe\">\n",
       "  <thead>\n",
       "    <tr style=\"text-align: right;\">\n",
       "      <th></th>\n",
       "      <th>HR</th>\n",
       "      <th>Resp</th>\n",
       "      <th>Comments</th>\n",
       "    </tr>\n",
       "    <tr>\n",
       "      <th>Date_Time</th>\n",
       "      <th></th>\n",
       "      <th></th>\n",
       "      <th></th>\n",
       "    </tr>\n",
       "  </thead>\n",
       "  <tbody>\n",
       "    <tr>\n",
       "      <th>2017-11-13 10:21:49.355800</th>\n",
       "      <td>162.6400</td>\n",
       "      <td>2.420671</td>\n",
       "      <td>NaN</td>\n",
       "    </tr>\n",
       "    <tr>\n",
       "      <th>2017-11-13 10:21:49.855800</th>\n",
       "      <td>167.7724</td>\n",
       "      <td>1.473044</td>\n",
       "      <td>NaN</td>\n",
       "    </tr>\n",
       "    <tr>\n",
       "      <th>2017-11-13 10:21:50.355800</th>\n",
       "      <td>167.3049</td>\n",
       "      <td>0.916979</td>\n",
       "      <td>NaN</td>\n",
       "    </tr>\n",
       "    <tr>\n",
       "      <th>2017-11-13 10:21:50.855800</th>\n",
       "      <td>164.9741</td>\n",
       "      <td>2.693337</td>\n",
       "      <td>NaN</td>\n",
       "    </tr>\n",
       "    <tr>\n",
       "      <th>2017-11-13 10:21:51.355800</th>\n",
       "      <td>170.3801</td>\n",
       "      <td>4.941797</td>\n",
       "      <td>NaN</td>\n",
       "    </tr>\n",
       "  </tbody>\n",
       "</table>\n",
       "</div>"
      ],
      "text/plain": [
       "                                  HR      Resp Comments\n",
       "Date_Time                                              \n",
       "2017-11-13 10:21:49.355800  162.6400  2.420671      NaN\n",
       "2017-11-13 10:21:49.855800  167.7724  1.473044      NaN\n",
       "2017-11-13 10:21:50.355800  167.3049  0.916979      NaN\n",
       "2017-11-13 10:21:50.855800  164.9741  2.693337      NaN\n",
       "2017-11-13 10:21:51.355800  170.3801  4.941797      NaN"
      ]
     },
     "execution_count": 3,
     "metadata": {},
     "output_type": "execute_result"
    }
   ],
   "source": [
    "#combine the date and time\n",
    "data['Date_Time'] = data['Date']+data['Time']\n",
    "del data['Date'], data['Time']\n",
    "\n",
    "#tranform the time into index\n",
    "data.index = data['Date_Time'] \n",
    "del data['Date_Time'] \n",
    "\n",
    "# check time intervals\n",
    "set_time_intervals = pd.Timedelta(\"0.5s\")\n",
    "actual_time_intervals = data.index[1] -data.index[0]\n",
    "if (set_time_intervals != actual_time_intervals):\n",
    "    print(\"The time intervals now is:\", actual_time_intervals, \". Please check the downsample parameter!!\")\n",
    "    \n",
    "data.head()"
   ]
  },
  {
   "cell_type": "markdown",
   "metadata": {},
   "source": [
    "## check and handle missing values\n",
    "> * chech the sparsity of the data\n",
    "> * compute missing values with carry-forward method\n",
    "> * check the computation situation"
   ]
  },
  {
   "cell_type": "code",
   "execution_count": 4,
   "metadata": {},
   "outputs": [
    {
     "name": "stdout",
     "output_type": "stream",
     "text": [
      "There are 159109 missings in total, and 2 for HR, 0 for Resp.\n"
     ]
    }
   ],
   "source": [
    "#Check the number of missing values\n",
    "missing_total=data.isnull().sum().sum()\n",
    "missing_HR=data[\"HR\"].isnull().sum()\n",
    "missing_Resp=data[\"Resp\"].isnull().sum()\n",
    "print(\"There are {} missings in total, and {} for HR, {} for Resp.\".format(missing_total, missing_HR, missing_Resp))\n",
    "if missing_HR > 10:\n",
    "    raise Exception('Missing values of HR should not exceed 10.')\n",
    "if missing_Resp > 10:\n",
    "    raise Exception('Missing values of Resp should not exceed 10.')"
   ]
  },
  {
   "cell_type": "code",
   "execution_count": 5,
   "metadata": {},
   "outputs": [
    {
     "name": "stdout",
     "output_type": "stream",
     "text": [
      "There are 159107 missings in total, and 0 for HR, 0 for Resp.\n"
     ]
    }
   ],
   "source": [
    "pd.options.mode.chained_assignment = None\n",
    "#compute missing values with carry forward method\n",
    "missing_HR_index = data[\"HR\"][data[\"HR\"].isnull()].index\n",
    "missing_HR_compute_index = missing_HR_index - set_time_intervals\n",
    "data[\"HR\"][data[\"HR\"].isnull()] = np.array(data[\"HR\"][missing_HR_compute_index])\n",
    "\n",
    "missing_Resp_index = data[\"Resp\"][data[\"Resp\"].isnull()].index\n",
    "missing_Resp_compute_index = missing_Resp_index - set_time_intervals\n",
    "data[\"Resp\"][data[\"Resp\"].isnull()] = np.array(data[\"Resp\"][missing_Resp_compute_index])\n",
    "\n",
    "#check the computation situation\n",
    "missing_total=data.isnull().sum().sum()\n",
    "missing_HR=data[\"HR\"].isnull().sum()\n",
    "missing_Resp=data[\"Resp\"].isnull().sum()\n",
    "print(\"There are {} missings in total, and {} for HR, {} for Resp.\".format(missing_total, missing_HR, missing_Resp))\n",
    "if missing_HR != 0:\n",
    "    raise Exception('Something wrong with missing values computing of HR.')\n",
    "if missing_Resp != 0:\n",
    "    raise Exception('Something wrong with missing values computing of Resp.')"
   ]
  },
  {
   "cell_type": "markdown",
   "metadata": {},
   "source": [
    "## quick exploration of data"
   ]
  },
  {
   "cell_type": "code",
   "execution_count": 6,
   "metadata": {},
   "outputs": [
    {
     "name": "stdout",
     "output_type": "stream",
     "text": [
      "The shape of data is:  (159111, 3)\n"
     ]
    },
    {
     "data": {
      "text/plain": [
       "<matplotlib.legend.Legend at 0x118d12828>"
      ]
     },
     "execution_count": 6,
     "metadata": {},
     "output_type": "execute_result"
    },
    {
     "data": {
      "image/png": "[encoded data removed]",
      "text/plain": [
       "<Figure size 432x288 with 1 Axes>"
      ]
     },
     "metadata": {
      "needs_background": "light"
     },
     "output_type": "display_data"
    }
   ],
   "source": [
    "#quick look at the data\n",
    "print(\"The shape of data is: \", data.shape)\n",
    "data[\"HR\"].resample(\"30T\").mean().plot()\n",
    "(data[\"Resp\"]*100).resample(\"30T\").mean().plot()\n",
    "plt.legend([\"Heart Rate\", \"Respiration Rate\"],\n",
    "          loc=\"upper center\")"
   ]
  },
  {
   "cell_type": "code",
   "execution_count": null,
   "metadata": {},
   "outputs": [],
   "source": [
    "#Export the data\n",
    "import csv\n",
    "export_csv = data.to_csv (data_file[:-4]+\"_ts\"+data_file[-4:], header=True)"
   ]
  },
  {
   "cell_type": "markdown",
   "metadata": {},
   "source": [
    "## Transform into cesium format"
   ]
  },
  {
   "cell_type": "code",
   "execution_count": 7,
   "metadata": {},
   "outputs": [
    {
     "name": "stdout",
     "output_type": "stream",
     "text": [
      "<class 'list'>\n",
      "<class 'numpy.ndarray'>\n",
      "<class 'numpy.ndarray'>\n",
      "<class 'numpy.float64'>\n",
      "(2, 159111)\n"
     ]
    }
   ],
   "source": [
    "#tranform the datetimeindex into array\n",
    "time_array = np.array(data.index.to_pydatetime(), dtype=np.datetime64)\n",
    "#transform into a list of list of ndarrary\n",
    "\n",
    "cesium_times = [np.array([time_array.astype(\"float\"),time_array.astype(\"float\")])]\n",
    "\n",
    "#check the time format\n",
    "print(type(cesium_times))#list\n",
    "print(type(cesium_times[0])) #(2, 159112) np.array\n",
    "print(type(cesium_times[0][0]))\n",
    "print(type(cesium_times[0][0][0]))\n",
    "print(cesium_times[0].shape)"
   ]
  },
  {
   "cell_type": "code",
   "execution_count": 8,
   "metadata": {},
   "outputs": [
    {
     "name": "stdout",
     "output_type": "stream",
     "text": [
      "<class 'numpy.ndarray'>\n",
      "<class 'list'>\n",
      "<class 'numpy.ndarray'>\n",
      "<class 'numpy.ndarray'>\n",
      "<class 'numpy.float64'>\n",
      "(2, 159111)\n"
     ]
    }
   ],
   "source": [
    "#tranform the measurement values into cesium format\n",
    "cesium_values =[np.array([data[\"HR\"].to_numpy(),data[\"Resp\"].to_numpy()])]\n",
    "print(type(cesium_values[0]))\n",
    "\n",
    "print(type(cesium_values))#list\n",
    "print(type(cesium_values[0])) #array\n",
    "print(type(cesium_values[0][0]))\n",
    "print(type(cesium_values[0][0][0]))\n",
    "print(cesium_values[0].shape)"
   ]
  },
  {
   "cell_type": "code",
   "execution_count": 10,
   "metadata": {},
   "outputs": [
    {
     "name": "stdout",
     "output_type": "stream",
     "text": [
      "feature   amplitude            percent_beyond_1_std             maximum  \\\n",
      "channel           0          1                    0         1         0   \n",
      "0        7680.97217  21.236365              0.00291  0.261541  15371.98   \n",
      "\n",
      "feature           max_slope              median            ...  \\\n",
      "channel         1         0         1         0         1  ...   \n",
      "0        17.52629  0.026259  0.000054  177.5802  2.831188  ...   \n",
      "\n",
      "feature percent_close_to_median             minimum                 skew  \\\n",
      "channel                       0         1         0         1          0   \n",
      "0                      0.997593  0.983955  10.03566 -24.94644  24.569635   \n",
      "\n",
      "feature                   std           weighted_average            \n",
      "channel         1           0         1                0         1  \n",
      "0       -0.119295  355.818913  1.560819       196.083506  2.765618  \n",
      "\n",
      "[1 rows x 22 columns]\n"
     ]
    }
   ],
   "source": [
    "from cesium import featurize\n",
    "#set the feature wants to extract\n",
    "features_to_use = [\"amplitude\",\n",
    "                   \"percent_beyond_1_std\",\n",
    "                   \"maximum\",\n",
    "                   \"max_slope\",\n",
    "                   \"median\",\n",
    "                   \"median_absolute_deviation\",\n",
    "                   \"percent_close_to_median\",\n",
    "                   \"minimum\",\n",
    "                   \"skew\",\n",
    "                   \"std\",\n",
    "                   \"weighted_average\"]\n",
    "\n",
    "fset_cesium = featurize.featurize_time_series(times = cesium_times,\n",
    "                                              values = cesium_values,\n",
    "                                              features_to_use=features_to_use)\n",
    "print(fset_cesium.head())"
   ]
  },
  {
   "cell_type": "code",
   "execution_count": null,
   "metadata": {},
   "outputs": [],
   "source": []
  }
 ],
 "metadata": {
  "kernelspec": {
   "display_name": "Python [conda env:p3]",
   "language": "python",
   "name": "conda-env-p3-py"
  },
  "language_info": {
   "codemirror_mode": {
    "name": "ipython",
    "version": 3
   },
   "file_extension": ".py",
   "mimetype": "text/x-python",
   "name": "python",
   "nbconvert_exporter": "python",
   "pygments_lexer": "ipython3",
   "version": "3.7.3"
  }
 },
 "nbformat": 4,
 "nbformat_minor": 2
}
