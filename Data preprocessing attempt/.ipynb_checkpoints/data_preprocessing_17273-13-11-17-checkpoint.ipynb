{
 "cells": [
  {
   "cell_type": "markdown",
   "metadata": {},
   "source": [
    "# Data preprocessing attempt 1\n",
    "This code is to try to prepare a qualified format of output for Cesium liabray, to extract features from time series.\n",
    "\n",
    "The data used is no.17273, date:13-11-2017; Channel:TP-AmnP (TP-AP 273), FHR(Heart Rate A); Downsample: 1000(0.5s/ponit);\n",
    "\n",
    "According to the metadata, we label the injection time of LPS:\n",
    "> 17-273 (LPS + Saline)\t11/8/2017\tLPS (300ng)\t11/13/2017\t10:30\n",
    "\n",
    "The processing includes:\n",
    "* load the data\n",
    "* compute the correct date+time\n",
    "* transform the date_time into data.index\n",
    "* quick exploratio of the data"
   ]
  },
  {
   "cell_type": "code",
   "execution_count": 1,
   "metadata": {},
   "outputs": [],
   "source": [
    "#load all libraries\n",
    "from datetime import datetime, timedelta\n",
    "from dateutil import parser\n",
    "import numpy as np\n",
    "import pandas as pd\n",
    "import matplotlib.pyplot as plt"
   ]
  },
  {
   "cell_type": "code",
   "execution_count": 3,
   "metadata": {},
   "outputs": [
    {
     "name": "stderr",
     "output_type": "stream",
     "text": [
      "/anaconda3/envs/p3/lib/python3.7/site-packages/IPython/core/interactiveshell.py:3049: DtypeWarning: Columns (4) have mixed types. Specify dtype option on import or set low_memory=False.\n",
      "  interactivity=interactivity, compiler=compiler, result=result)\n"
     ]
    },
    {
     "data": {
      "text/html": [
       "<div>\n",
       "<style scoped>\n",
       "    .dataframe tbody tr th:only-of-type {\n",
       "        vertical-align: middle;\n",
       "    }\n",
       "\n",
       "    .dataframe tbody tr th {\n",
       "        vertical-align: top;\n",
       "    }\n",
       "\n",
       "    .dataframe thead th {\n",
       "        text-align: right;\n",
       "    }\n",
       "</style>\n",
       "<table border=\"1\" class=\"dataframe\">\n",
       "  <thead>\n",
       "    <tr style=\"text-align: right;\">\n",
       "      <th></th>\n",
       "      <th>Time</th>\n",
       "      <th>Date</th>\n",
       "      <th>HR</th>\n",
       "      <th>Resp</th>\n",
       "      <th>Comments</th>\n",
       "    </tr>\n",
       "  </thead>\n",
       "  <tbody>\n",
       "    <tr>\n",
       "      <th>0</th>\n",
       "      <td>10:21:48.855800</td>\n",
       "      <td>2017-11-13</td>\n",
       "      <td>153.1246</td>\n",
       "      <td>2.944267</td>\n",
       "      <td>NaN</td>\n",
       "    </tr>\n",
       "    <tr>\n",
       "      <th>1</th>\n",
       "      <td>10:21:49.355800</td>\n",
       "      <td>2017-11-13</td>\n",
       "      <td>162.6400</td>\n",
       "      <td>2.420671</td>\n",
       "      <td>NaN</td>\n",
       "    </tr>\n",
       "    <tr>\n",
       "      <th>2</th>\n",
       "      <td>10:21:49.855800</td>\n",
       "      <td>2017-11-13</td>\n",
       "      <td>167.7724</td>\n",
       "      <td>1.473044</td>\n",
       "      <td>NaN</td>\n",
       "    </tr>\n",
       "    <tr>\n",
       "      <th>3</th>\n",
       "      <td>10:21:50.355800</td>\n",
       "      <td>2017-11-13</td>\n",
       "      <td>167.3049</td>\n",
       "      <td>0.916979</td>\n",
       "      <td>NaN</td>\n",
       "    </tr>\n",
       "    <tr>\n",
       "      <th>4</th>\n",
       "      <td>10:21:50.855800</td>\n",
       "      <td>2017-11-13</td>\n",
       "      <td>164.9741</td>\n",
       "      <td>2.693337</td>\n",
       "      <td>NaN</td>\n",
       "    </tr>\n",
       "  </tbody>\n",
       "</table>\n",
       "</div>"
      ],
      "text/plain": [
       "             Time       Date        HR      Resp Comments\n",
       "0 10:21:48.855800 2017-11-13  153.1246  2.944267      NaN\n",
       "1 10:21:49.355800 2017-11-13  162.6400  2.420671      NaN\n",
       "2 10:21:49.855800 2017-11-13  167.7724  1.473044      NaN\n",
       "3 10:21:50.355800 2017-11-13  167.3049  0.916979      NaN\n",
       "4 10:21:50.855800 2017-11-13  164.9741  2.693337      NaN"
      ]
     },
     "execution_count": 3,
     "metadata": {},
     "output_type": "execute_result"
    }
   ],
   "source": [
    "#load the data\n",
    "data = pd.DataFrame(pd.read_csv(\"17273_13-11-17.csv\", header=0))\n",
    "data['Time'] = pd.to_timedelta(data['Time'], \"s\")\n",
    "data['Date'] = pd.to_datetime(data['Date'])\n",
    "data.head()"
   ]
  },
  {
   "cell_type": "code",
   "execution_count": 4,
   "metadata": {},
   "outputs": [],
   "source": [
    "#combine the date and time\n",
    "data['Date_Time'] = data['Date']+data['Time']\n",
    "del data['Date'], data['Time']"
   ]
  },
  {
   "cell_type": "code",
   "execution_count": 5,
   "metadata": {},
   "outputs": [],
   "source": [
    "#tranform the time into index\n",
    "data.index = data['Date_Time'] \n",
    "del data['Date_Time'] \n",
    "#print(data.columns)\n",
    "#print(type(data.index))"
   ]
  },
  {
   "cell_type": "code",
   "execution_count": 6,
   "metadata": {},
   "outputs": [
    {
     "name": "stdout",
     "output_type": "stream",
     "text": [
      "0 days 00:00:00.500000\n",
      "0 days 00:00:00.500000\n",
      "0 days 00:00:00.500000\n",
      "0 days 00:00:00.500000\n",
      "0 days 00:00:00.500000\n"
     ]
    }
   ],
   "source": [
    "for i in range(5):\n",
    "    print(data.index[i+1] -data.index[i])  #to check the time has been transformed into correct time"
   ]
  },
  {
   "cell_type": "code",
   "execution_count": 93,
   "metadata": {},
   "outputs": [
    {
     "name": "stdout",
     "output_type": "stream",
     "text": [
      "                                  HR      Resp Comments\n",
      "Date_Time                                              \n",
      "2017-11-13 10:21:48.855800  153.1246  2.944267      NaN\n",
      "2017-11-13 10:21:49.355800  162.6400  2.420671      NaN\n",
      "2017-11-13 10:21:49.855800  167.7724  1.473044      NaN\n",
      "2017-11-13 10:21:50.355800  167.3049  0.916979      NaN\n",
      "2017-11-13 10:21:50.855800  164.9741  2.693337      NaN\n",
      "The shape of data is:  (159112, 3)\n"
     ]
    },
    {
     "data": {
      "text/plain": [
       "<matplotlib.legend.Legend at 0x1a250c9048>"
      ]
     },
     "execution_count": 93,
     "metadata": {},
     "output_type": "execute_result"
    },
    {
     "data": {
      "image/png": "[encoded data removed]",
      "text/plain": [
       "<Figure size 432x288 with 1 Axes>"
      ]
     },
     "metadata": {
      "needs_background": "light"
     },
     "output_type": "display_data"
    }
   ],
   "source": [
    "#quick look at the data\n",
    "print(data.head())\n",
    "print(\"The shape of data is: \", data.shape)\n",
    "data[\"HR\"].resample(\"30T\").mean().plot()\n",
    "(data[\"Resp\"]*100).resample(\"30T\").mean().plot()\n",
    "plt.legend([\"Heart Rate\", \"Respiration Rate\"],\n",
    "          loc=\"upper center\")"
   ]
  },
  {
   "cell_type": "code",
   "execution_count": 265,
   "metadata": {},
   "outputs": [],
   "source": [
    "#Export the data\n",
    "import csv\n",
    "export_csv = data.to_csv ('17273-13-11-17_ts.csv', header=True)"
   ]
  },
  {
   "cell_type": "markdown",
   "metadata": {},
   "source": [
    "### attempt to transform the data into cesium format"
   ]
  },
  {
   "cell_type": "code",
   "execution_count": 99,
   "metadata": {
    "scrolled": false
   },
   "outputs": [
    {
     "name": "stdout",
     "output_type": "stream",
     "text": [
      "<class 'pandas.core.indexes.datetimes.DatetimeIndex'>\n"
     ]
    },
    {
     "data": {
      "text/plain": [
       "DatetimeIndex(['2017-11-13 10:21:48.855800', '2017-11-13 10:21:49.355800',\n",
       "               '2017-11-13 10:21:49.855800', '2017-11-13 10:21:50.355800',\n",
       "               '2017-11-13 10:21:50.855800', '2017-11-13 10:21:51.355800',\n",
       "               '2017-11-13 10:21:51.855800', '2017-11-13 10:21:52.355800',\n",
       "               '2017-11-13 10:21:52.855800', '2017-11-13 10:21:53.355800',\n",
       "               ...\n",
       "               '2017-11-14 08:27:39.855800', '2017-11-14 08:27:40.355800',\n",
       "               '2017-11-14 08:27:40.855800', '2017-11-14 08:27:41.355800',\n",
       "               '2017-11-14 08:27:41.855800', '2017-11-14 08:28:03.284900',\n",
       "               '2017-11-14 08:28:03.784900', '2017-11-14 08:28:04.284900',\n",
       "               '2017-11-14 08:28:04.784900', '2017-11-14 08:28:05.284900'],\n",
       "              dtype='datetime64[ns]', name='Date_Time', length=159112, freq=None)"
      ]
     },
     "execution_count": 99,
     "metadata": {},
     "output_type": "execute_result"
    }
   ],
   "source": [
    "print(type(data.index)) #pd.DatetimeIndex>>pd.Timestamp\n",
    "data.index"
   ]
  },
  {
   "cell_type": "code",
   "execution_count": 100,
   "metadata": {},
   "outputs": [
    {
     "name": "stdout",
     "output_type": "stream",
     "text": [
      "<class 'numpy.ndarray'>\n"
     ]
    }
   ],
   "source": [
    "#tranform the datetimeindex into array\n",
    "new_array = np.array(data.index.to_pydatetime(), dtype=np.datetime64)\n",
    "#transform into a list\n",
    "cesium_times = [new_array]\n",
    "print(type(cesium_times[0]))"
   ]
  },
  {
   "cell_type": "code",
   "execution_count": 105,
   "metadata": {},
   "outputs": [
    {
     "name": "stdout",
     "output_type": "stream",
     "text": [
      "<class 'numpy.datetime64'>\n"
     ]
    },
    {
     "data": {
      "text/plain": [
       "numpy.datetime64('2017-11-13T10:21:48.855800')"
      ]
     },
     "execution_count": 105,
     "metadata": {},
     "output_type": "execute_result"
    }
   ],
   "source": [
    "print(type(cesium_times[0][0])) #list>>numpy.ndarray>>numpy.datetime64\n",
    "cesium_times[0][0]"
   ]
  },
  {
   "cell_type": "code",
   "execution_count": 117,
   "metadata": {},
   "outputs": [
    {
     "name": "stdout",
     "output_type": "stream",
     "text": [
      "<class 'list'>\n",
      "<class 'numpy.ndarray'>\n"
     ]
    }
   ],
   "source": [
    "#tranform the pd.series into np.array\n",
    "new_array_2 = data.HR.to_numpy()\n",
    "#transform into a list\n",
    "cesium_values = [new_array_2]\n",
    "\n",
    "print(type(cesium_values))\n",
    "print(type(cesium_values[0]))"
   ]
  },
  {
   "cell_type": "code",
   "execution_count": 115,
   "metadata": {},
   "outputs": [
    {
     "name": "stdout",
     "output_type": "stream",
     "text": [
      "<class 'numpy.float64'>\n"
     ]
    },
    {
     "data": {
      "text/plain": [
       "153.1246"
      ]
     },
     "execution_count": 115,
     "metadata": {},
     "output_type": "execute_result"
    }
   ],
   "source": [
    "print(type(cesium_values[0][0])) #list>>numpy.ndarray>>numpy.float64\n",
    "cesium_values[0][0]"
   ]
  },
  {
   "cell_type": "code",
   "execution_count": 136,
   "metadata": {},
   "outputs": [
    {
     "name": "stdout",
     "output_type": "stream",
     "text": [
      "<class 'pandas.core.series.Series'>\n"
     ]
    },
    {
     "name": "stderr",
     "output_type": "stream",
     "text": [
      "/anaconda3/envs/p3/lib/python3.7/site-packages/ipykernel_launcher.py:3: SettingWithCopyWarning: \n",
      "A value is trying to be set on a copy of a slice from a DataFrame\n",
      "\n",
      "See the caveats in the documentation: http://pandas.pydata.org/pandas-docs/stable/indexing.html#indexing-view-versus-copy\n",
      "  This is separate from the ipykernel package so we can avoid doing imports until\n"
     ]
    }
   ],
   "source": [
    "print(type(data.HR)) #pd.Series>>numpy.float64\n",
    "data.HR\n",
    "#replace the nan\n",
    "data.HR[np.datetime64(\"2017-11-14 08:28:05.2849000\")] = 162"
   ]
  },
  {
   "cell_type": "code",
   "execution_count": 137,
   "metadata": {},
   "outputs": [
    {
     "name": "stdout",
     "output_type": "stream",
     "text": [
      "Series([], Name: HR, dtype: float64)\n"
     ]
    }
   ],
   "source": [
    "print(data.HR[np.isnan(data.HR)])\n",
    "#print(data.Resp[np.isnan(data.Resp)])"
   ]
  },
  {
   "cell_type": "markdown",
   "metadata": {},
   "source": [
    "Before running the codes below, need to check:\n",
    "\n",
    "- datatype of times & measurements\n",
    "- there is no missing values"
   ]
  },
  {
   "cell_type": "code",
   "execution_count": 138,
   "metadata": {},
   "outputs": [
    {
     "name": "stdout",
     "output_type": "stream",
     "text": [
      "feature   amplitude percent_beyond_1_std   maximum max_slope     median  \\\n",
      "channel           0                    0         0         0          0   \n",
      "0        7680.97217              0.00291  15371.98  0.026259  177.57985   \n",
      "\n",
      "feature median_absolute_deviation percent_close_to_median   minimum      skew  \\\n",
      "channel                         0                       0         0         0   \n",
      "0                         16.0259                0.997593  10.03566  24.56971   \n",
      "\n",
      "feature         std weighted_average  \n",
      "channel           0                0  \n",
      "0        355.817812       196.083219  \n"
     ]
    }
   ],
   "source": [
    "from cesium import featurize\n",
    "features_to_use = [\"amplitude\",\n",
    "                   \"percent_beyond_1_std\",\n",
    "                   \"maximum\",\n",
    "                   \"max_slope\",\n",
    "                   \"median\",\n",
    "                   \"median_absolute_deviation\",\n",
    "                   \"percent_close_to_median\",\n",
    "                   \"minimum\",\n",
    "                   \"skew\",\n",
    "                   \"std\",\n",
    "                   \"weighted_average\"]\n",
    "\n",
    "fset_cesium = featurize.featurize_time_series(times = cesium_times,\n",
    "                                              values = cesium_values, #error because of nan\n",
    "                                              features_to_use=features_to_use)\n",
    "print(fset_cesium.head())"
   ]
  },
  {
   "cell_type": "markdown",
   "metadata": {},
   "source": [
    "###  attempt to transform into cesium format, multi-channel"
   ]
  },
  {
   "cell_type": "code",
   "execution_count": 229,
   "metadata": {},
   "outputs": [
    {
     "name": "stdout",
     "output_type": "stream",
     "text": [
      "<class 'numpy.ndarray'>\n",
      "[array([[1.51056851e+15, 1.51056851e+15, 1.51056851e+15, ...,\n",
      "        1.51064808e+15, 1.51064808e+15, 1.51064809e+15],\n",
      "       [1.51056851e+15, 1.51056851e+15, 1.51056851e+15, ...,\n",
      "        1.51064808e+15, 1.51064808e+15, 1.51064809e+15]])]\n"
     ]
    }
   ],
   "source": [
    "from numpy import array\n",
    "#tranform the datetimeindex into array\n",
    "new_array = np.array(data.index.to_pydatetime(), dtype=np.datetime64)\n",
    "#transform into a list of list of ndarrary\n",
    "cesium_times = [array([new_array.astype(\"float\"),new_array.astype(\"float\")])]\n",
    "print(type(cesium_times[0]))\n",
    "print(cesium_times)"
   ]
  },
  {
   "cell_type": "code",
   "execution_count": 231,
   "metadata": {},
   "outputs": [
    {
     "name": "stdout",
     "output_type": "stream",
     "text": [
      "<class 'list'>\n",
      "<class 'numpy.ndarray'>\n",
      "<class 'numpy.ndarray'>\n",
      "<class 'numpy.float64'>\n",
      "(2, 159112)\n"
     ]
    }
   ],
   "source": [
    "new_array[0].astype(\"float\")\n",
    "print(type(cesium_times))#list\n",
    "print(type(cesium_times[0])) #(2, 159112) np.array\n",
    "print(type(cesium_times[0][0]))\n",
    "print(type(cesium_times[0][0][0]))\n",
    "print(cesium_times[0].shape)"
   ]
  },
  {
   "cell_type": "code",
   "execution_count": 236,
   "metadata": {},
   "outputs": [
    {
     "name": "stdout",
     "output_type": "stream",
     "text": [
      "<class 'numpy.ndarray'>\n",
      "[array([[153.1246  , 162.64    , 167.7724  , ..., 164.5599  , 161.2966  ,\n",
      "        162.      ],\n",
      "       [  2.944267,   2.420671,   1.473044, ...,   2.01424 ,   1.218637,\n",
      "          2.110855]])]\n"
     ]
    }
   ],
   "source": [
    "#tranform the pd.series into np.array\n",
    "#transform into a list\n",
    "cesium_values =[array([data[\"HR\"].to_numpy(),data[\"Resp\"].to_numpy()])]\n",
    "print(type(cesium_values[0]))\n",
    "print(cesium_values)"
   ]
  },
  {
   "cell_type": "code",
   "execution_count": 237,
   "metadata": {},
   "outputs": [
    {
     "name": "stdout",
     "output_type": "stream",
     "text": [
      "<class 'list'>\n",
      "<class 'numpy.ndarray'>\n",
      "<class 'numpy.ndarray'>\n",
      "<class 'numpy.float64'>\n",
      "(2, 159112)\n"
     ]
    }
   ],
   "source": [
    "print(type(cesium_values))#list\n",
    "print(type(cesium_values[0])) #array\n",
    "print(type(cesium_values[0][0]))\n",
    "print(type(cesium_values[0][0][0]))\n",
    "print(cesium_values[0].shape)"
   ]
  },
  {
   "cell_type": "code",
   "execution_count": 238,
   "metadata": {},
   "outputs": [
    {
     "name": "stdout",
     "output_type": "stream",
     "text": [
      "[]\n"
     ]
    }
   ],
   "source": [
    "print(new_array_2[np.isnan(new_array_2)])\n",
    "#print(data.Resp[np.isnan(data.Resp)])"
   ]
  },
  {
   "cell_type": "code",
   "execution_count": 239,
   "metadata": {},
   "outputs": [
    {
     "name": "stdout",
     "output_type": "stream",
     "text": [
      "feature   amplitude            percent_beyond_1_std             maximum  \\\n",
      "channel           0          1                    0         1         0   \n",
      "0        7680.97217  21.236365              0.00291  0.261539  15371.98   \n",
      "\n",
      "feature           max_slope               median           ...  \\\n",
      "channel         1         0         1          0        1  ...   \n",
      "0        17.52629  0.026259  0.000054  177.57985  2.83119  ...   \n",
      "\n",
      "feature percent_close_to_median             minimum                skew  \\\n",
      "channel                       0         1         0         1         0   \n",
      "0                      0.997593  0.983955  10.03566 -24.94644  24.56971   \n",
      "\n",
      "feature                   std           weighted_average           \n",
      "channel         1           0         1                0        1  \n",
      "0       -0.119297  355.817812  1.560814       196.083219  2.76562  \n",
      "\n",
      "[1 rows x 22 columns]\n"
     ]
    }
   ],
   "source": [
    "from cesium import featurize\n",
    "features_to_use = [\"amplitude\",\n",
    "                   \"percent_beyond_1_std\",\n",
    "                   \"maximum\",\n",
    "                   \"max_slope\",\n",
    "                   \"median\",\n",
    "                   \"median_absolute_deviation\",\n",
    "                   \"percent_close_to_median\",\n",
    "                   \"minimum\",\n",
    "                   \"skew\",\n",
    "                   \"std\",\n",
    "                   \"weighted_average\"]\n",
    "\n",
    "fset_cesium = featurize.featurize_time_series(times = cesium_times,\n",
    "                                              values = cesium_values,\n",
    "                                              features_to_use=features_to_use)\n",
    "print(fset_cesium.head())"
   ]
  },
  {
   "cell_type": "code",
   "execution_count": 240,
   "metadata": {},
   "outputs": [
    {
     "data": {
      "text/html": [
       "<div>\n",
       "<style scoped>\n",
       "    .dataframe tbody tr th:only-of-type {\n",
       "        vertical-align: middle;\n",
       "    }\n",
       "\n",
       "    .dataframe tbody tr th {\n",
       "        vertical-align: top;\n",
       "    }\n",
       "\n",
       "    .dataframe thead tr th {\n",
       "        text-align: left;\n",
       "    }\n",
       "</style>\n",
       "<table border=\"1\" class=\"dataframe\">\n",
       "  <thead>\n",
       "    <tr>\n",
       "      <th>feature</th>\n",
       "      <th colspan=\"2\" halign=\"left\">amplitude</th>\n",
       "      <th colspan=\"2\" halign=\"left\">percent_beyond_1_std</th>\n",
       "      <th colspan=\"2\" halign=\"left\">maximum</th>\n",
       "      <th colspan=\"2\" halign=\"left\">max_slope</th>\n",
       "      <th colspan=\"2\" halign=\"left\">median</th>\n",
       "      <th>...</th>\n",
       "      <th colspan=\"2\" halign=\"left\">percent_close_to_median</th>\n",
       "      <th colspan=\"2\" halign=\"left\">minimum</th>\n",
       "      <th colspan=\"2\" halign=\"left\">skew</th>\n",
       "      <th colspan=\"2\" halign=\"left\">std</th>\n",
       "      <th colspan=\"2\" halign=\"left\">weighted_average</th>\n",
       "    </tr>\n",
       "    <tr>\n",
       "      <th>channel</th>\n",
       "      <th>0</th>\n",
       "      <th>1</th>\n",
       "      <th>0</th>\n",
       "      <th>1</th>\n",
       "      <th>0</th>\n",
       "      <th>1</th>\n",
       "      <th>0</th>\n",
       "      <th>1</th>\n",
       "      <th>0</th>\n",
       "      <th>1</th>\n",
       "      <th>...</th>\n",
       "      <th>0</th>\n",
       "      <th>1</th>\n",
       "      <th>0</th>\n",
       "      <th>1</th>\n",
       "      <th>0</th>\n",
       "      <th>1</th>\n",
       "      <th>0</th>\n",
       "      <th>1</th>\n",
       "      <th>0</th>\n",
       "      <th>1</th>\n",
       "    </tr>\n",
       "  </thead>\n",
       "  <tbody>\n",
       "    <tr>\n",
       "      <th>0</th>\n",
       "      <td>7680.97217</td>\n",
       "      <td>21.236365</td>\n",
       "      <td>0.00291</td>\n",
       "      <td>0.261539</td>\n",
       "      <td>15371.98</td>\n",
       "      <td>17.52629</td>\n",
       "      <td>0.026259</td>\n",
       "      <td>0.000054</td>\n",
       "      <td>177.57985</td>\n",
       "      <td>2.83119</td>\n",
       "      <td>...</td>\n",
       "      <td>0.997593</td>\n",
       "      <td>0.983955</td>\n",
       "      <td>10.03566</td>\n",
       "      <td>-24.94644</td>\n",
       "      <td>24.56971</td>\n",
       "      <td>-0.119297</td>\n",
       "      <td>355.817812</td>\n",
       "      <td>1.560814</td>\n",
       "      <td>196.083219</td>\n",
       "      <td>2.76562</td>\n",
       "    </tr>\n",
       "  </tbody>\n",
       "</table>\n",
       "<p>1 rows × 22 columns</p>\n",
       "</div>"
      ],
      "text/plain": [
       "feature   amplitude            percent_beyond_1_std             maximum  \\\n",
       "channel           0          1                    0         1         0   \n",
       "0        7680.97217  21.236365              0.00291  0.261539  15371.98   \n",
       "\n",
       "feature           max_slope               median           ...  \\\n",
       "channel         1         0         1          0        1  ...   \n",
       "0        17.52629  0.026259  0.000054  177.57985  2.83119  ...   \n",
       "\n",
       "feature percent_close_to_median             minimum                skew  \\\n",
       "channel                       0         1         0         1         0   \n",
       "0                      0.997593  0.983955  10.03566 -24.94644  24.56971   \n",
       "\n",
       "feature                   std           weighted_average           \n",
       "channel         1           0         1                0        1  \n",
       "0       -0.119297  355.817812  1.560814       196.083219  2.76562  \n",
       "\n",
       "[1 rows x 22 columns]"
      ]
     },
     "execution_count": 240,
     "metadata": {},
     "output_type": "execute_result"
    }
   ],
   "source": [
    "fset_cesium"
   ]
  },
  {
   "cell_type": "code",
   "execution_count": null,
   "metadata": {},
   "outputs": [],
   "source": []
  }
 ],
 "metadata": {
  "kernelspec": {
   "display_name": "Python [conda env:p3]",
   "language": "python",
   "name": "conda-env-p3-py"
  },
  "language_info": {
   "codemirror_mode": {
    "name": "ipython",
    "version": 3
   },
   "file_extension": ".py",
   "mimetype": "text/x-python",
   "name": "python",
   "nbconvert_exporter": "python",
   "pygments_lexer": "ipython3",
   "version": "3.7.3"
  }
 },
 "nbformat": 4,
 "nbformat_minor": 2
}
